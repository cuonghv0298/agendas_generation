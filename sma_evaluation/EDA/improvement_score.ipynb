{
 "cells": [
  {
   "cell_type": "code",
   "execution_count": 1,
   "metadata": {},
   "outputs": [],
   "source": [
    "import pandas as pd "
   ]
  },
  {
   "cell_type": "code",
   "execution_count": 13,
   "metadata": {},
   "outputs": [
    {
     "name": "stdout",
     "output_type": "stream",
     "text": [
      "  Label  Recap_Average_Score  Base_Average_Score  Template_Average_Score  \\\n",
      "0   FAC               94.625              88.505                  88.060   \n",
      "1   INF               95.970              98.060                  97.015   \n",
      "2   REL               95.820              97.465                  96.420   \n",
      "3   OVR               95.970              95.970                  94.330   \n",
      "\n",
      "   Cat_Average_Score  RAG_Average_Score  RAG_Cat_Average_Score  \n",
      "0             93.880             87.910                 89.400  \n",
      "1             97.460             96.715                 97.910  \n",
      "2             95.970             96.420                 95.820  \n",
      "3             97.015             96.865                 96.715  \n"
     ]
    }
   ],
   "source": [
    "import pandas as pd\n",
    "\n",
    "# Step 1: Load the data\n",
    "root = 'gpt_out.csv'\n",
    "df = pd.read_csv(root)\n",
    "\n",
    "# Step 2: Define the averaging function\n",
    "def avg(a, b):\n",
    "    return (a + b) / 2\n",
    "\n",
    "# Step 3: Create a new DataFrame for the averaged results\n",
    "df_new = pd.DataFrame()\n",
    "\n",
    "# Step 4: Define the row pairs and labels\n",
    "row_pairs = [(0, 4), (1, 5), (2, 6), (3, 7)]  # Pairs of rows to average (FAC with FAC_DOC, etc.)\n",
    "labels = ['FAC', 'INF', 'REL', 'OVR']  # Labels for the new rows\n",
    "\n",
    "# Step 5: Iterate over the score columns and compute averages\n",
    "score_columns = df.columns[1:]  # Skip the first column ('Unnamed: 0')\n",
    "for col in score_columns:\n",
    "    for idx, (row1, row2) in enumerate(row_pairs):\n",
    "        # Average the values from the two rows for the current column\n",
    "        df_new.loc[idx, col] = avg(df.loc[row1, col], df.loc[row2, col])\n",
    "\n",
    "# Step 6: Add the labels to the new DataFrame\n",
    "df_new.insert(0, 'Label', labels)\n",
    "\n",
    "# Step 7: Display the result\n",
    "print(df_new)"
   ]
  },
  {
   "cell_type": "code",
   "execution_count": 16,
   "metadata": {},
   "outputs": [
    {
     "name": "stdout",
     "output_type": "stream",
     "text": [
      "  Label  Recap_Average_Score  Base_Average_Score  Template_Average_Score  \\\n",
      "0   FAC                94.38               87.51                   87.80   \n",
      "1   INF                95.80               98.03                   96.92   \n",
      "2   REL                95.66               97.45                   96.29   \n",
      "3   OVR                95.80               95.83                   93.99   \n",
      "\n",
      "   Cat_Average_Score  RAG_Average_Score  RAG_Cat_Average_Score  \n",
      "0              93.81              87.20                  88.75  \n",
      "1              97.42              96.60                  97.87  \n",
      "2              95.96              96.29                  95.74  \n",
      "3              97.00              96.76                  96.69  \n"
     ]
    }
   ],
   "source": [
    "import pandas as pd\n",
    "\n",
    "# Step 1: Load the data\n",
    "root = 'gpt_out.csv'\n",
    "df = pd.read_csv(root)\n",
    "\n",
    "# Step 2: Define the averaging function\n",
    "def f1(a, b):\n",
    "    return round(2*a*b/(a + b),2)\n",
    "\n",
    "# Step 3: Create a new DataFrame for the averaged results\n",
    "df_new = pd.DataFrame()\n",
    "\n",
    "# Step 4: Define the row pairs and labels\n",
    "row_pairs = [(0, 4), (1, 5), (2, 6), (3, 7)]  # Pairs of rows to average (FAC with FAC_DOC, etc.)\n",
    "labels = ['FAC', 'INF', 'REL', 'OVR']  # Labels for the new rows\n",
    "\n",
    "# Step 5: Iterate over the score columns and compute averages\n",
    "score_columns = df.columns[1:]  # Skip the first column ('Unnamed: 0')\n",
    "for col in score_columns:\n",
    "    for idx, (row1, row2) in enumerate(row_pairs):\n",
    "        # Average the values from the two rows for the current column\n",
    "        df_new.loc[idx, col] = f1(df.loc[row1, col], df.loc[row2, col])\n",
    "\n",
    "# Step 6: Add the labels to the new DataFrame\n",
    "df_new.insert(0, 'Label', labels)\n",
    "\n",
    "# Step 7: Display the result\n",
    "print(df_new)"
   ]
  },
  {
   "cell_type": "code",
   "execution_count": 17,
   "metadata": {},
   "outputs": [],
   "source": [
    "df_new.to_csv('gpt_out_f1.csv', index=False)"
   ]
  }
 ],
 "metadata": {
  "kernelspec": {
   "display_name": "sma",
   "language": "python",
   "name": "python3"
  },
  "language_info": {
   "codemirror_mode": {
    "name": "ipython",
    "version": 3
   },
   "file_extension": ".py",
   "mimetype": "text/x-python",
   "name": "python",
   "nbconvert_exporter": "python",
   "pygments_lexer": "ipython3",
   "version": "3.10.15"
  }
 },
 "nbformat": 4,
 "nbformat_minor": 2
}
