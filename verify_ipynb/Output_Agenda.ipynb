{
 "cells": [
  {
   "cell_type": "markdown",
   "metadata": {},
   "source": [
    "# Recap Agenda Title\n",
    "\n",
    "ES2002a.json"
   ]
  },
  {
   "cell_type": "code",
   "execution_count": 4,
   "metadata": {},
   "outputs": [
    {
     "name": "stdout",
     "output_type": "stream",
     "text": [
      "**Meeting Agenda: Remote Control Design Project Kick-off**  \n",
      "1. **Introductions and Icebreaker (5 minutes)**  \n",
      "  + **Icebreaker Activity** (2 minutes)  \n",
      "    + Participants draw their favorite animal and describe its key characteristics.  \n",
      "  + **Overview of Participants** (3 minutes)  \n",
      "    + Brief introductions of team members and their roles in the project.  \n",
      "\n",
      "2. **Project Overview (10 minutes)**  \n",
      "  + **Project Goals Presentation** (5 minutes)  \n",
      "    + Outline of project objectives: design a trendy, original, and user-friendly remote control.  \n",
      "    + Financial guidelines: Selling price set at €25, with a production cost cap of €12.50.  \n",
      "  + **Discussion on Market Considerations** (5 minutes)  \n",
      "    + Explore international market implications and regional pricing strategies.  \n",
      "\n",
      "3. **Feature Brainstorming (10 minutes)**  \n",
      "  + **Core Functionalities Discussion** (5 minutes)  \n",
      "    + Identify essential features: multi-device compatibility, user-friendly interface, and additional functionalities.  \n",
      "  + **Design Considerations** (5 minutes)  \n",
      "    + Discuss design aesthetics and technological advancements (e.g., touch screens, streamlined designs).  \n",
      "\n",
      "4. **Next Steps and Responsibilities (5 minutes)**  \n",
      "  + **Action Items Assignment** (5 minutes)  \n",
      "    + Assign tasks to team members for the next phase of the project, including design and market research.  \n",
      "\n",
      "**Total Time:** 30 minutes\n"
     ]
    }
   ],
   "source": [
    "text = \"**Meeting Agenda: Remote Control Design Project Kick-off**  \\n1. **Introductions and Icebreaker (5 minutes)**  \\n  + **Icebreaker Activity** (2 minutes)  \\n    + Participants draw their favorite animal and describe its key characteristics.  \\n  + **Overview of Participants** (3 minutes)  \\n    + Brief introductions of team members and their roles in the project.  \\n\\n2. **Project Overview (10 minutes)**  \\n  + **Project Goals Presentation** (5 minutes)  \\n    + Outline of project objectives: design a trendy, original, and user-friendly remote control.  \\n    + Financial guidelines: Selling price set at €25, with a production cost cap of €12.50.  \\n  + **Discussion on Market Considerations** (5 minutes)  \\n    + Explore international market implications and regional pricing strategies.  \\n\\n3. **Feature Brainstorming (10 minutes)**  \\n  + **Core Functionalities Discussion** (5 minutes)  \\n    + Identify essential features: multi-device compatibility, user-friendly interface, and additional functionalities.  \\n  + **Design Considerations** (5 minutes)  \\n    + Discuss design aesthetics and technological advancements (e.g., touch screens, streamlined designs).  \\n\\n4. **Next Steps and Responsibilities (5 minutes)**  \\n  + **Action Items Assignment** (5 minutes)  \\n    + Assign tasks to team members for the next phase of the project, including design and market research.  \\n\\n**Total Time:** 30 minutes\"\n",
    "print(text)"
   ]
  },
  {
   "cell_type": "markdown",
   "metadata": {},
   "source": [
    "**Meeting Agenda: Remote Control Design Project Kick-off**  \n",
    "1. **Introductions and Icebreaker (5 minutes)**  \n",
    "  + **Icebreaker Activity** (2 minutes)  \n",
    "    + Participants draw their favorite animal and describe its key characteristics.  \n",
    "  + **Overview of Participants** (3 minutes)  \n",
    "    + Brief introductions of team members and their roles in the project.  \n",
    "\n",
    "2. **Project Overview (10 minutes)**  \n",
    "  + **Project Goals Presentation** (5 minutes)  \n",
    "    + Outline of project objectives: design a trendy, original, and user-friendly remote control.  \n",
    "    + Financial guidelines: Selling price set at €25, with a production cost cap of €12.50.  \n",
    "  + **Discussion on Market Considerations** (5 minutes)  \n",
    "    + Explore international market implications and regional pricing strategies.  \n",
    "\n",
    "3. **Feature Brainstorming (10 minutes)**  \n",
    "  + **Core Functionalities Discussion** (5 minutes)  \n",
    "    + Identify essential features: multi-device compatibility, user-friendly interface, and additional functionalities.  \n",
    "  + **Design Considerations** (5 minutes)  \n",
    "    + Discuss design aesthetics and technological advancements (e.g., touch screens, streamlined designs).  \n",
    "\n",
    "4. **Next Steps and Responsibilities (5 minutes)**  \n",
    "  + **Action Items Assignment** (5 minutes)  \n",
    "    + Assign tasks to team members for the next phase of the project, including design and market research.  \n",
    "\n",
    "**Total Time:** 30 minutes"
   ]
  },
  {
   "cell_type": "markdown",
   "metadata": {},
   "source": [
    "# Truncated Multi Input Agenda\n",
    "\n",
    "ES2002a.json\n"
   ]
  },
  {
   "cell_type": "code",
   "execution_count": 5,
   "metadata": {},
   "outputs": [
    {
     "name": "stdout",
     "output_type": "stream",
     "text": [
      "**Meeting Agenda: Remote Control Design Project Update**  \n",
      "\n",
      "1. **Introductions and Overview (5 minutes)**  \n",
      "  + **Meeting Purpose and Objectives (2 minutes)**  \n",
      "    + Confirm the goals for the meeting: review project progress and finalize design decisions.  \n",
      "    + Outline key areas for discussion: design features, target market, and next steps.  \n",
      "  + **Team Introductions (3 minutes)**  \n",
      "    + Each member briefly introduces themselves and their role in the project.  \n",
      "\n",
      "2. **Project Status Updates (10 minutes)**  \n",
      "  + **Design Progress Reports (5 minutes)**  \n",
      "    + Team members share updates on their assigned tasks and design elements.  \n",
      "    + Highlight any significant developments or challenges encountered.  \n",
      "  + **Review of Previous Decisions (5 minutes)**  \n",
      "    + Discuss the status of decisions made in prior meetings regarding design features and functionalities.  \n",
      "    + Address any unresolved issues or changes needed based on recent feedback.  \n",
      "\n",
      "3. **Design Discussion (10 minutes)**  \n",
      "  + **Key Design Features (5 minutes)**  \n",
      "    + Review and finalize decisions on the shape, materials, and color scheme of the remote control.  \n",
      "    + Discuss the inclusion of features such as backlighting and button layout.  \n",
      "  + **Target Market and Positioning (5 minutes)**  \n",
      "    + Confirm the target demographic and discuss marketing strategies.  \n",
      "    + Evaluate how design choices align with market trends and user preferences.  \n",
      "\n",
      "4. **Next Steps and Action Items (5 minutes)**  \n",
      "  + **Assign Tasks (3 minutes)**  \n",
      "    + Clearly assign tasks to team members with deadlines for the next phase of the project.  \n",
      "    + Ensure everyone understands their responsibilities moving forward.  \n",
      "  + **Follow-Up Plan (2 minutes)**  \n",
      "    + Discuss the plan for the next meeting and any required follow-up actions.  \n",
      "\n",
      "5. **Open Questions and Closing (5 minutes)**  \n",
      "  + **Open Floor for Questions (3 minutes)**  \n",
      "    + Allow team members to raise any additional questions or concerns.  \n",
      "  + **Wrap-Up (2 minutes)**  \n",
      "    + Summarize key points discussed and confirm understanding.  \n",
      "    + Thank participants for their contributions.  \n",
      "\n",
      "**Total Time: 35 minutes**\n"
     ]
    }
   ],
   "source": [
    "text = \"\"\"**Meeting Agenda: Remote Control Design Project Update**  \\n\\n1. **Introductions and Overview (5 minutes)**  \\n  + **Meeting Purpose and Objectives (2 minutes)**  \\n    + Confirm the goals for the meeting: review project progress and finalize design decisions.  \\n    + Outline key areas for discussion: design features, target market, and next steps.  \\n  + **Team Introductions (3 minutes)**  \\n    + Each member briefly introduces themselves and their role in the project.  \\n\\n2. **Project Status Updates (10 minutes)**  \\n  + **Design Progress Reports (5 minutes)**  \\n    + Team members share updates on their assigned tasks and design elements.  \\n    + Highlight any significant developments or challenges encountered.  \\n  + **Review of Previous Decisions (5 minutes)**  \\n    + Discuss the status of decisions made in prior meetings regarding design features and functionalities.  \\n    + Address any unresolved issues or changes needed based on recent feedback.  \\n\\n3. **Design Discussion (10 minutes)**  \\n  + **Key Design Features (5 minutes)**  \\n    + Review and finalize decisions on the shape, materials, and color scheme of the remote control.  \\n    + Discuss the inclusion of features such as backlighting and button layout.  \\n  + **Target Market and Positioning (5 minutes)**  \\n    + Confirm the target demographic and discuss marketing strategies.  \\n    + Evaluate how design choices align with market trends and user preferences.  \\n\\n4. **Next Steps and Action Items (5 minutes)**  \\n  + **Assign Tasks (3 minutes)**  \\n    + Clearly assign tasks to team members with deadlines for the next phase of the project.  \\n    + Ensure everyone understands their responsibilities moving forward.  \\n  + **Follow-Up Plan (2 minutes)**  \\n    + Discuss the plan for the next meeting and any required follow-up actions.  \\n\\n5. **Open Questions and Closing (5 minutes)**  \\n  + **Open Floor for Questions (3 minutes)**  \\n    + Allow team members to raise any additional questions or concerns.  \\n  + **Wrap-Up (2 minutes)**  \\n    + Summarize key points discussed and confirm understanding.  \\n    + Thank participants for their contributions.  \\n\\n**Total Time: 35 minutes**\"\"\" \n",
    "print(text)"
   ]
  },
  {
   "cell_type": "markdown",
   "metadata": {},
   "source": [
    "**Meeting Agenda: Remote Control Design Project Update**  \n",
    "\n",
    "1. **Introductions and Overview (5 minutes)**  \n",
    "  + **Meeting Purpose and Objectives (2 minutes)**  \n",
    "    + Confirm the goals for the meeting: review project progress and finalize design decisions.  \n",
    "    + Outline key areas for discussion: design features, target market, and next steps.  \n",
    "  + **Team Introductions (3 minutes)**  \n",
    "    + Each member briefly introduces themselves and their role in the project.  \n",
    "\n",
    "2. **Project Status Updates (10 minutes)**  \n",
    "  + **Design Progress Reports (5 minutes)**  \n",
    "    + Team members share updates on their assigned tasks and design elements.  \n",
    "    + Highlight any significant developments or challenges encountered.  \n",
    "  + **Review of Previous Decisions (5 minutes)**  \n",
    "    + Discuss the status of decisions made in prior meetings regarding design features and functionalities.  \n",
    "    + Address any unresolved issues or changes needed based on recent feedback.  \n",
    "\n",
    "3. **Design Discussion (10 minutes)**  \n",
    "  + **Key Design Features (5 minutes)**  \n",
    "    + Review and finalize decisions on the shape, materials, and color scheme of the remote control.  \n",
    "    + Discuss the inclusion of features such as backlighting and button layout.  \n",
    "  + **Target Market and Positioning (5 minutes)**  \n",
    "    + Confirm the target demographic and discuss marketing strategies.  \n",
    "    + Evaluate how design choices align with market trends and user preferences.  \n",
    "\n",
    "4. **Next Steps and Action Items (5 minutes)**  \n",
    "  + **Assign Tasks (3 minutes)**  \n",
    "    + Clearly assign tasks to team members with deadlines for the next phase of the project.  \n",
    "    + Ensure everyone understands their responsibilities moving forward.  \n",
    "  + **Follow-Up Plan (2 minutes)**  \n",
    "    + Discuss the plan for the next meeting and any required follow-up actions.  \n",
    "\n",
    "5. **Open Questions and Closing (5 minutes)**  \n",
    "  + **Open Floor for Questions (3 minutes)**  \n",
    "    + Allow team members to raise any additional questions or concerns.  \n",
    "  + **Wrap-Up (2 minutes)**  \n",
    "    + Summarize key points discussed and confirm understanding.  \n",
    "    + Thank participants for their contributions.  \n",
    "\n",
    "**Total Time: 35 minutes**"
   ]
  },
  {
   "cell_type": "markdown",
   "metadata": {},
   "source": [
    "# Truncated Single Input Agenda\n",
    "\n",
    "ES2002a.json \n"
   ]
  },
  {
   "cell_type": "code",
   "execution_count": 6,
   "metadata": {},
   "outputs": [
    {
     "name": "stdout",
     "output_type": "stream",
     "text": [
      "**Meeting Agenda: Remote Control Project Finalization**  \n",
      "\n",
      "1. **Introductions and Meeting Overview (5 minutes)**  \n",
      "   + **Introductions** (2 minutes)  \n",
      "     + Brief introductions of team members and their roles.  \n",
      "   + **Meeting Objectives** (3 minutes)  \n",
      "     + Outline the goals for finalizing the remote control design and evaluating the project.\n",
      "\n",
      "2. **Design Review (10 minutes)**  \n",
      "   + **Final Design Presentation** (5 minutes)  \n",
      "     + Overview of the final design features: \"snowman\" shape, materials used, and functionalities.  \n",
      "     + Discussion on the design's alignment with target market preferences (15-35 age group).  \n",
      "   + **Evaluation of Design Constraints** (5 minutes)  \n",
      "     + Review financial constraints and their impact on design decisions (e.g., removal of LCD, advanced features).  \n",
      "     + Discuss feedback from team members on the design process and areas for improvement.\n",
      "\n",
      "3. **Next Steps and Action Items (5 minutes)**  \n",
      "   + **Action Item Assignments** (5 minutes)  \n",
      "     + Confirm responsibilities for final prototype adjustments and evaluations.  \n",
      "     + Set deadlines for any remaining tasks before project completion.\n",
      "\n",
      "**Total Time:** 20 minutes\n"
     ]
    }
   ],
   "source": [
    "text = \"**Meeting Agenda: Remote Control Project Finalization**  \\n\\n1. **Introductions and Meeting Overview (5 minutes)**  \\n   + **Introductions** (2 minutes)  \\n     + Brief introductions of team members and their roles.  \\n   + **Meeting Objectives** (3 minutes)  \\n     + Outline the goals for finalizing the remote control design and evaluating the project.\\n\\n2. **Design Review (10 minutes)**  \\n   + **Final Design Presentation** (5 minutes)  \\n     + Overview of the final design features: \\\"snowman\\\" shape, materials used, and functionalities.  \\n     + Discussion on the design's alignment with target market preferences (15-35 age group).  \\n   + **Evaluation of Design Constraints** (5 minutes)  \\n     + Review financial constraints and their impact on design decisions (e.g., removal of LCD, advanced features).  \\n     + Discuss feedback from team members on the design process and areas for improvement.\\n\\n3. **Next Steps and Action Items (5 minutes)**  \\n   + **Action Item Assignments** (5 minutes)  \\n     + Confirm responsibilities for final prototype adjustments and evaluations.  \\n     + Set deadlines for any remaining tasks before project completion.\\n\\n**Total Time:** 20 minutes\"\n",
    "print(text)"
   ]
  },
  {
   "cell_type": "markdown",
   "metadata": {},
   "source": [
    "**Meeting Agenda: Remote Control Project Finalization**  \n",
    "\n",
    "1. **Introductions and Meeting Overview (5 minutes)**  \n",
    "   + **Introductions** (2 minutes)  \n",
    "     + Brief introductions of team members and their roles.  \n",
    "   + **Meeting Objectives** (3 minutes)  \n",
    "     + Outline the goals for finalizing the remote control design and evaluating the project.\n",
    "\n",
    "2. **Design Review (10 minutes)**  \n",
    "   + **Final Design Presentation** (5 minutes)  \n",
    "     + Overview of the final design features: \"snowman\" shape, materials used, and functionalities.  \n",
    "     + Discussion on the design's alignment with target market preferences (15-35 age group).  \n",
    "   + **Evaluation of Design Constraints** (5 minutes)  \n",
    "     + Review financial constraints and their impact on design decisions (e.g., removal of LCD, advanced features).  \n",
    "     + Discuss feedback from team members on the design process and areas for improvement.\n",
    "\n",
    "3. **Next Steps and Action Items (5 minutes)**  \n",
    "   + **Action Item Assignments** (5 minutes)  \n",
    "     + Confirm responsibilities for final prototype adjustments and evaluations.  \n",
    "     + Set deadlines for any remaining tasks before project completion.\n",
    "\n",
    "**Total Time:** 20 minutes"
   ]
  },
  {
   "cell_type": "markdown",
   "metadata": {},
   "source": []
  }
 ],
 "metadata": {
  "kernelspec": {
   "display_name": "mm_agenda_generation_research",
   "language": "python",
   "name": "python3"
  },
  "language_info": {
   "codemirror_mode": {
    "name": "ipython",
    "version": 3
   },
   "file_extension": ".py",
   "mimetype": "text/x-python",
   "name": "python",
   "nbconvert_exporter": "python",
   "pygments_lexer": "ipython3",
   "version": "3.10.16"
  }
 },
 "nbformat": 4,
 "nbformat_minor": 2
}
