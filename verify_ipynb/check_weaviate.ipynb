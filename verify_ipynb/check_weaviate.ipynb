{
 "cells": [
  {
   "cell_type": "code",
   "execution_count": 1,
   "metadata": {},
   "outputs": [
    {
     "data": {
      "text/plain": [
       "{'grpcMaxMessageSize': 10485760,\n",
       " 'hostname': 'http://[::]:8080',\n",
       " 'modules': {'text2vec-openai': {'documentationHref': 'https://platform.openai.com/docs/guides/embeddings/what-are-embeddings',\n",
       "   'name': 'OpenAI Module'}},\n",
       " 'version': '1.27.7'}"
      ]
     },
     "execution_count": 1,
     "metadata": {},
     "output_type": "execute_result"
    }
   ],
   "source": [
    "import os \n",
    "from dotenv import load_dotenv\n",
    "load_dotenv(\"/datadrive/CuongHV/project/mm_agenda_generation_research/.env\")\n",
    "# load_dotenv(\"/home/kdts33/sma_ai/api/.env\")\n",
    "import weaviate\n",
    "client = weaviate.connect_to_custom(\n",
    "    http_host= os.environ.get(\"WEAVIATE_HOST\"), #\"10.100.224.34\",  # URL only, no http prefix\n",
    "    http_port= os.environ.get(\"WEAVIATE_HOST_PORT\"), #\"8080\",\n",
    "    http_secure=False ,   # Set to True if https\n",
    "    grpc_host= os.environ.get(\"WEAVIATE_GPC_URL\"),#  \"10.100.224.34\",\n",
    "    grpc_port= os.environ.get(\"WEAVIATE_GPC_URL_PORT\"),#\"50051\",      # Default is 50051, WCD uses 443\n",
    "    grpc_secure=False,   # Edit as needed\n",
    "    skip_init_checks=True,\n",
    ")\n",
    "meta_info = client.get_meta()\n",
    "meta_info"
   ]
  },
  {
   "cell_type": "code",
   "execution_count": 4,
   "metadata": {},
   "outputs": [
    {
     "name": "stdout",
     "output_type": "stream",
     "text": [
      "70\n"
     ]
    },
    {
     "data": {
      "text/plain": [
       "{'deploy_mind_d7378a78f95a4c93bba07976a3a73a20': Tenant(name='deploy_mind_d7378a78f95a4c93bba07976a3a73a20', activityStatusInternal=<TenantActivityStatus.ACTIVE: 'ACTIVE'>, activityStatus=<_TenantActivistatusServerValues.HOT: 'HOT'>),\n",
       " 'deploy_mind_b41c526f459b45b8945877be0757a690': Tenant(name='deploy_mind_b41c526f459b45b8945877be0757a690', activityStatusInternal=<TenantActivityStatus.ACTIVE: 'ACTIVE'>, activityStatus=<_TenantActivistatusServerValues.HOT: 'HOT'>),\n",
       " 'deploy_mind_ac92523b886b49f9ae4aa75020c6b714': Tenant(name='deploy_mind_ac92523b886b49f9ae4aa75020c6b714', activityStatusInternal=<TenantActivityStatus.ACTIVE: 'ACTIVE'>, activityStatus=<_TenantActivistatusServerValues.HOT: 'HOT'>),\n",
       " 'deploy_mind_f307aa0d16194ad29582eeefe3a04f31': Tenant(name='deploy_mind_f307aa0d16194ad29582eeefe3a04f31', activityStatusInternal=<TenantActivityStatus.ACTIVE: 'ACTIVE'>, activityStatus=<_TenantActivistatusServerValues.HOT: 'HOT'>),\n",
       " 'deploy_mind_246618cad6bf40369ff7ad882eb09989': Tenant(name='deploy_mind_246618cad6bf40369ff7ad882eb09989', activityStatusInternal=<TenantActivityStatus.ACTIVE: 'ACTIVE'>, activityStatus=<_TenantActivistatusServerValues.HOT: 'HOT'>),\n",
       " 'deploy_mind_1b61ed81e5d942d686e55bc8f5ea8113': Tenant(name='deploy_mind_1b61ed81e5d942d686e55bc8f5ea8113', activityStatusInternal=<TenantActivityStatus.ACTIVE: 'ACTIVE'>, activityStatus=<_TenantActivistatusServerValues.HOT: 'HOT'>),\n",
       " 'deploy_mind_c997f6aa9ffb4d80b70c6f7f7e6cee41': Tenant(name='deploy_mind_c997f6aa9ffb4d80b70c6f7f7e6cee41', activityStatusInternal=<TenantActivityStatus.ACTIVE: 'ACTIVE'>, activityStatus=<_TenantActivistatusServerValues.HOT: 'HOT'>),\n",
       " 'deploy_mind_8d5bd42fd4d54281ae71dba89cf81719': Tenant(name='deploy_mind_8d5bd42fd4d54281ae71dba89cf81719', activityStatusInternal=<TenantActivityStatus.ACTIVE: 'ACTIVE'>, activityStatus=<_TenantActivistatusServerValues.HOT: 'HOT'>),\n",
       " 'deploy_mind_e23b4b7e698a4dd68ea174313508595e': Tenant(name='deploy_mind_e23b4b7e698a4dd68ea174313508595e', activityStatusInternal=<TenantActivityStatus.ACTIVE: 'ACTIVE'>, activityStatus=<_TenantActivistatusServerValues.HOT: 'HOT'>),\n",
       " 'deploy_mind_707f690f44cd4466b814919f809cfc0f': Tenant(name='deploy_mind_707f690f44cd4466b814919f809cfc0f', activityStatusInternal=<TenantActivityStatus.ACTIVE: 'ACTIVE'>, activityStatus=<_TenantActivistatusServerValues.HOT: 'HOT'>),\n",
       " 'deploy_mind_4b7b86649c6e40988d2210b76c823f5c': Tenant(name='deploy_mind_4b7b86649c6e40988d2210b76c823f5c', activityStatusInternal=<TenantActivityStatus.ACTIVE: 'ACTIVE'>, activityStatus=<_TenantActivistatusServerValues.HOT: 'HOT'>),\n",
       " 'deploy_mind_15aa689f7fa3465b850b0ad5f6821dc9': Tenant(name='deploy_mind_15aa689f7fa3465b850b0ad5f6821dc9', activityStatusInternal=<TenantActivityStatus.ACTIVE: 'ACTIVE'>, activityStatus=<_TenantActivistatusServerValues.HOT: 'HOT'>),\n",
       " 'deploy_mind_63e3152e6752498f8228d5c3ad4b5520': Tenant(name='deploy_mind_63e3152e6752498f8228d5c3ad4b5520', activityStatusInternal=<TenantActivityStatus.ACTIVE: 'ACTIVE'>, activityStatus=<_TenantActivistatusServerValues.HOT: 'HOT'>),\n",
       " 'deploy_mind_8013034c06d546a28f65b7cf6e4dc8d4': Tenant(name='deploy_mind_8013034c06d546a28f65b7cf6e4dc8d4', activityStatusInternal=<TenantActivityStatus.ACTIVE: 'ACTIVE'>, activityStatus=<_TenantActivistatusServerValues.HOT: 'HOT'>),\n",
       " 'deploy_mind_02f1d3f1701c4c1698bbab8245b8b389': Tenant(name='deploy_mind_02f1d3f1701c4c1698bbab8245b8b389', activityStatusInternal=<TenantActivityStatus.ACTIVE: 'ACTIVE'>, activityStatus=<_TenantActivistatusServerValues.HOT: 'HOT'>),\n",
       " 'deploy_mind_81d33437db5d446ab045abac31d33c3b': Tenant(name='deploy_mind_81d33437db5d446ab045abac31d33c3b', activityStatusInternal=<TenantActivityStatus.ACTIVE: 'ACTIVE'>, activityStatus=<_TenantActivistatusServerValues.HOT: 'HOT'>),\n",
       " 'deploy_mind_7dbaf66183b64f06b05ace5013e81c53': Tenant(name='deploy_mind_7dbaf66183b64f06b05ace5013e81c53', activityStatusInternal=<TenantActivityStatus.ACTIVE: 'ACTIVE'>, activityStatus=<_TenantActivistatusServerValues.HOT: 'HOT'>),\n",
       " 'deploy_mind_ecd4935374844a3d9462d81fa85fdd75': Tenant(name='deploy_mind_ecd4935374844a3d9462d81fa85fdd75', activityStatusInternal=<TenantActivityStatus.ACTIVE: 'ACTIVE'>, activityStatus=<_TenantActivistatusServerValues.HOT: 'HOT'>),\n",
       " 'deploy_mind_7e345007ab0b4475937eb3d6a65f4e69': Tenant(name='deploy_mind_7e345007ab0b4475937eb3d6a65f4e69', activityStatusInternal=<TenantActivityStatus.ACTIVE: 'ACTIVE'>, activityStatus=<_TenantActivistatusServerValues.HOT: 'HOT'>),\n",
       " 'deploy_mind_7f3d390fdf5d40cbabc9132e61815bc0': Tenant(name='deploy_mind_7f3d390fdf5d40cbabc9132e61815bc0', activityStatusInternal=<TenantActivityStatus.ACTIVE: 'ACTIVE'>, activityStatus=<_TenantActivistatusServerValues.HOT: 'HOT'>),\n",
       " 'deploy_mind_3a5c60063972494ba4746f930bb5e874': Tenant(name='deploy_mind_3a5c60063972494ba4746f930bb5e874', activityStatusInternal=<TenantActivityStatus.ACTIVE: 'ACTIVE'>, activityStatus=<_TenantActivistatusServerValues.HOT: 'HOT'>),\n",
       " 'deploy_mind_6d303a7c8ba84a0cadfd74a22c352207': Tenant(name='deploy_mind_6d303a7c8ba84a0cadfd74a22c352207', activityStatusInternal=<TenantActivityStatus.ACTIVE: 'ACTIVE'>, activityStatus=<_TenantActivistatusServerValues.HOT: 'HOT'>),\n",
       " 'deploy_mind_6697b18312c4457a9fe30797e38e6391': Tenant(name='deploy_mind_6697b18312c4457a9fe30797e38e6391', activityStatusInternal=<TenantActivityStatus.ACTIVE: 'ACTIVE'>, activityStatus=<_TenantActivistatusServerValues.HOT: 'HOT'>),\n",
       " 'deploy_mind_09280add1a10419c8919f5dd44f370d3': Tenant(name='deploy_mind_09280add1a10419c8919f5dd44f370d3', activityStatusInternal=<TenantActivityStatus.ACTIVE: 'ACTIVE'>, activityStatus=<_TenantActivistatusServerValues.HOT: 'HOT'>),\n",
       " 'deploy_mind_017d7960aac74e198b57424574b202c2': Tenant(name='deploy_mind_017d7960aac74e198b57424574b202c2', activityStatusInternal=<TenantActivityStatus.ACTIVE: 'ACTIVE'>, activityStatus=<_TenantActivistatusServerValues.HOT: 'HOT'>),\n",
       " 'deploy_mind_25b75e8f36414ba586c61c96e6d4674e': Tenant(name='deploy_mind_25b75e8f36414ba586c61c96e6d4674e', activityStatusInternal=<TenantActivityStatus.ACTIVE: 'ACTIVE'>, activityStatus=<_TenantActivistatusServerValues.HOT: 'HOT'>),\n",
       " 'deploy_mind_e3604fcf541c41ad96a9c0d095afc28a': Tenant(name='deploy_mind_e3604fcf541c41ad96a9c0d095afc28a', activityStatusInternal=<TenantActivityStatus.ACTIVE: 'ACTIVE'>, activityStatus=<_TenantActivistatusServerValues.HOT: 'HOT'>),\n",
       " 'deploy_mind_faa088b03ee048ca94ed082f97dc0297': Tenant(name='deploy_mind_faa088b03ee048ca94ed082f97dc0297', activityStatusInternal=<TenantActivityStatus.ACTIVE: 'ACTIVE'>, activityStatus=<_TenantActivistatusServerValues.HOT: 'HOT'>),\n",
       " 'deploy_mind_293a92c717c1422b971bdb6c05efc41c': Tenant(name='deploy_mind_293a92c717c1422b971bdb6c05efc41c', activityStatusInternal=<TenantActivityStatus.ACTIVE: 'ACTIVE'>, activityStatus=<_TenantActivistatusServerValues.HOT: 'HOT'>),\n",
       " 'deploy_mind_5acd076cdfa1423eaa7c12d10b2bb57e': Tenant(name='deploy_mind_5acd076cdfa1423eaa7c12d10b2bb57e', activityStatusInternal=<TenantActivityStatus.ACTIVE: 'ACTIVE'>, activityStatus=<_TenantActivistatusServerValues.HOT: 'HOT'>),\n",
       " 'deploy_mind_59d0daaffe3d49f3913ad21936c65e6a': Tenant(name='deploy_mind_59d0daaffe3d49f3913ad21936c65e6a', activityStatusInternal=<TenantActivityStatus.ACTIVE: 'ACTIVE'>, activityStatus=<_TenantActivistatusServerValues.HOT: 'HOT'>),\n",
       " 'deploy_mind_37ba00d818a043118bbfdd053b644a01': Tenant(name='deploy_mind_37ba00d818a043118bbfdd053b644a01', activityStatusInternal=<TenantActivityStatus.ACTIVE: 'ACTIVE'>, activityStatus=<_TenantActivistatusServerValues.HOT: 'HOT'>),\n",
       " 'deploy_mind_c90ab693e46b4b38a504c45a0c45c52e': Tenant(name='deploy_mind_c90ab693e46b4b38a504c45a0c45c52e', activityStatusInternal=<TenantActivityStatus.ACTIVE: 'ACTIVE'>, activityStatus=<_TenantActivistatusServerValues.HOT: 'HOT'>),\n",
       " 'deploy_mind_a3246e7cbbcf42c8b0ee6da8501730cf': Tenant(name='deploy_mind_a3246e7cbbcf42c8b0ee6da8501730cf', activityStatusInternal=<TenantActivityStatus.ACTIVE: 'ACTIVE'>, activityStatus=<_TenantActivistatusServerValues.HOT: 'HOT'>),\n",
       " 'deploy_mind_9c5e044c795e48ba859bac8636912ab6': Tenant(name='deploy_mind_9c5e044c795e48ba859bac8636912ab6', activityStatusInternal=<TenantActivityStatus.ACTIVE: 'ACTIVE'>, activityStatus=<_TenantActivistatusServerValues.HOT: 'HOT'>),\n",
       " 'deploy_mind_cbcd2e6461704129ad044744f634b680': Tenant(name='deploy_mind_cbcd2e6461704129ad044744f634b680', activityStatusInternal=<TenantActivityStatus.ACTIVE: 'ACTIVE'>, activityStatus=<_TenantActivistatusServerValues.HOT: 'HOT'>),\n",
       " 'deploy_mind_252aa7441aae44cf82627066c3dcea4c': Tenant(name='deploy_mind_252aa7441aae44cf82627066c3dcea4c', activityStatusInternal=<TenantActivityStatus.ACTIVE: 'ACTIVE'>, activityStatus=<_TenantActivistatusServerValues.HOT: 'HOT'>),\n",
       " 'deploy_mind_2b54e13fa6684283abde676173c6cffa': Tenant(name='deploy_mind_2b54e13fa6684283abde676173c6cffa', activityStatusInternal=<TenantActivityStatus.ACTIVE: 'ACTIVE'>, activityStatus=<_TenantActivistatusServerValues.HOT: 'HOT'>),\n",
       " 'deploy_mind_21aa50d5ba6d43fca0a0f0459f926d77': Tenant(name='deploy_mind_21aa50d5ba6d43fca0a0f0459f926d77', activityStatusInternal=<TenantActivityStatus.ACTIVE: 'ACTIVE'>, activityStatus=<_TenantActivistatusServerValues.HOT: 'HOT'>),\n",
       " 'deploy_mind_624f209e25824ccfaea094cb297b3fbd': Tenant(name='deploy_mind_624f209e25824ccfaea094cb297b3fbd', activityStatusInternal=<TenantActivityStatus.ACTIVE: 'ACTIVE'>, activityStatus=<_TenantActivistatusServerValues.HOT: 'HOT'>),\n",
       " 'deploy_mind_5e2180d0395840c991911bc1e78e097f': Tenant(name='deploy_mind_5e2180d0395840c991911bc1e78e097f', activityStatusInternal=<TenantActivityStatus.ACTIVE: 'ACTIVE'>, activityStatus=<_TenantActivistatusServerValues.HOT: 'HOT'>),\n",
       " 'deploy_mind_901b2dd209f542d6accf77de8d3d2aab': Tenant(name='deploy_mind_901b2dd209f542d6accf77de8d3d2aab', activityStatusInternal=<TenantActivityStatus.ACTIVE: 'ACTIVE'>, activityStatus=<_TenantActivistatusServerValues.HOT: 'HOT'>),\n",
       " 'deploy_mind_d5c7f60a1403441e97843aeeb48c339a': Tenant(name='deploy_mind_d5c7f60a1403441e97843aeeb48c339a', activityStatusInternal=<TenantActivityStatus.ACTIVE: 'ACTIVE'>, activityStatus=<_TenantActivistatusServerValues.HOT: 'HOT'>),\n",
       " 'deploy_mind_d9d2307e9db44b7b978e819a4422e57c': Tenant(name='deploy_mind_d9d2307e9db44b7b978e819a4422e57c', activityStatusInternal=<TenantActivityStatus.ACTIVE: 'ACTIVE'>, activityStatus=<_TenantActivistatusServerValues.HOT: 'HOT'>),\n",
       " 'deploy_mind_19136e75e972487ab212c36f3c7c1e6f': Tenant(name='deploy_mind_19136e75e972487ab212c36f3c7c1e6f', activityStatusInternal=<TenantActivityStatus.ACTIVE: 'ACTIVE'>, activityStatus=<_TenantActivistatusServerValues.HOT: 'HOT'>),\n",
       " 'deploy_mind_dbe478eb6910440c95b2e3e58186157d': Tenant(name='deploy_mind_dbe478eb6910440c95b2e3e58186157d', activityStatusInternal=<TenantActivityStatus.ACTIVE: 'ACTIVE'>, activityStatus=<_TenantActivistatusServerValues.HOT: 'HOT'>),\n",
       " 'deploy_mind_d7523ee2f00d4cffbd6966943509d53c': Tenant(name='deploy_mind_d7523ee2f00d4cffbd6966943509d53c', activityStatusInternal=<TenantActivityStatus.ACTIVE: 'ACTIVE'>, activityStatus=<_TenantActivistatusServerValues.HOT: 'HOT'>),\n",
       " 'deploy_mind_e558f2ff71184adc876015eb0dbd4290': Tenant(name='deploy_mind_e558f2ff71184adc876015eb0dbd4290', activityStatusInternal=<TenantActivityStatus.ACTIVE: 'ACTIVE'>, activityStatus=<_TenantActivistatusServerValues.HOT: 'HOT'>),\n",
       " 'deploy_mind_7d96a11ac37c475386d6f92376405757': Tenant(name='deploy_mind_7d96a11ac37c475386d6f92376405757', activityStatusInternal=<TenantActivityStatus.ACTIVE: 'ACTIVE'>, activityStatus=<_TenantActivistatusServerValues.HOT: 'HOT'>),\n",
       " 'deploy_mind_5f2a46ddf51241aab9cf918ca3b41e5e': Tenant(name='deploy_mind_5f2a46ddf51241aab9cf918ca3b41e5e', activityStatusInternal=<TenantActivityStatus.ACTIVE: 'ACTIVE'>, activityStatus=<_TenantActivistatusServerValues.HOT: 'HOT'>),\n",
       " 'deploy_mind_97958584f16441d280df54d40c295f3e': Tenant(name='deploy_mind_97958584f16441d280df54d40c295f3e', activityStatusInternal=<TenantActivityStatus.ACTIVE: 'ACTIVE'>, activityStatus=<_TenantActivistatusServerValues.HOT: 'HOT'>),\n",
       " 'deploy_mind_d8dd3bffbab947b5aa62a8d2686b7edd': Tenant(name='deploy_mind_d8dd3bffbab947b5aa62a8d2686b7edd', activityStatusInternal=<TenantActivityStatus.ACTIVE: 'ACTIVE'>, activityStatus=<_TenantActivistatusServerValues.HOT: 'HOT'>),\n",
       " 'deploy_mind_6959263f848a42698a8350db61834bd4': Tenant(name='deploy_mind_6959263f848a42698a8350db61834bd4', activityStatusInternal=<TenantActivityStatus.ACTIVE: 'ACTIVE'>, activityStatus=<_TenantActivistatusServerValues.HOT: 'HOT'>),\n",
       " 'deploy_mind_3ea93cd23e3842cc917060e649e8985b': Tenant(name='deploy_mind_3ea93cd23e3842cc917060e649e8985b', activityStatusInternal=<TenantActivityStatus.ACTIVE: 'ACTIVE'>, activityStatus=<_TenantActivistatusServerValues.HOT: 'HOT'>),\n",
       " 'deploy_mind_4911a96b94db474798bc31a008783f6c': Tenant(name='deploy_mind_4911a96b94db474798bc31a008783f6c', activityStatusInternal=<TenantActivityStatus.ACTIVE: 'ACTIVE'>, activityStatus=<_TenantActivistatusServerValues.HOT: 'HOT'>),\n",
       " 'deploy_mind_5fa9e954213f420091f0a0505c66f9b9': Tenant(name='deploy_mind_5fa9e954213f420091f0a0505c66f9b9', activityStatusInternal=<TenantActivityStatus.ACTIVE: 'ACTIVE'>, activityStatus=<_TenantActivistatusServerValues.HOT: 'HOT'>),\n",
       " 'deploy_mind_a5c9141e86fc4197b7971cecdbfe5b5b': Tenant(name='deploy_mind_a5c9141e86fc4197b7971cecdbfe5b5b', activityStatusInternal=<TenantActivityStatus.ACTIVE: 'ACTIVE'>, activityStatus=<_TenantActivistatusServerValues.HOT: 'HOT'>),\n",
       " 'deploy_mind_a55287a968124974952e2aae07e9855b': Tenant(name='deploy_mind_a55287a968124974952e2aae07e9855b', activityStatusInternal=<TenantActivityStatus.ACTIVE: 'ACTIVE'>, activityStatus=<_TenantActivistatusServerValues.HOT: 'HOT'>),\n",
       " 'deploy_mind_cdde0283fbb040dcbbc7a43e898d0efa': Tenant(name='deploy_mind_cdde0283fbb040dcbbc7a43e898d0efa', activityStatusInternal=<TenantActivityStatus.ACTIVE: 'ACTIVE'>, activityStatus=<_TenantActivistatusServerValues.HOT: 'HOT'>),\n",
       " 'deploy_mind_2b875c31c47649b0b501538bb883e281': Tenant(name='deploy_mind_2b875c31c47649b0b501538bb883e281', activityStatusInternal=<TenantActivityStatus.ACTIVE: 'ACTIVE'>, activityStatus=<_TenantActivistatusServerValues.HOT: 'HOT'>),\n",
       " 'deploy_mind_a77940965a4c4faaae895ee479b43a5c': Tenant(name='deploy_mind_a77940965a4c4faaae895ee479b43a5c', activityStatusInternal=<TenantActivityStatus.ACTIVE: 'ACTIVE'>, activityStatus=<_TenantActivistatusServerValues.HOT: 'HOT'>),\n",
       " 'deploy_mind_296cc7ce57b34a398ef4e8188839fd40': Tenant(name='deploy_mind_296cc7ce57b34a398ef4e8188839fd40', activityStatusInternal=<TenantActivityStatus.ACTIVE: 'ACTIVE'>, activityStatus=<_TenantActivistatusServerValues.HOT: 'HOT'>),\n",
       " 'deploy_mind_101b06c616e9460f8f709501d79bcc64': Tenant(name='deploy_mind_101b06c616e9460f8f709501d79bcc64', activityStatusInternal=<TenantActivityStatus.ACTIVE: 'ACTIVE'>, activityStatus=<_TenantActivistatusServerValues.HOT: 'HOT'>),\n",
       " 'deploy_mind_a804ca27c2434280a248fa2daf08aae1': Tenant(name='deploy_mind_a804ca27c2434280a248fa2daf08aae1', activityStatusInternal=<TenantActivityStatus.ACTIVE: 'ACTIVE'>, activityStatus=<_TenantActivistatusServerValues.HOT: 'HOT'>),\n",
       " 'deploy_mind_d491dbbbc8df43d09bad928051e14336': Tenant(name='deploy_mind_d491dbbbc8df43d09bad928051e14336', activityStatusInternal=<TenantActivityStatus.ACTIVE: 'ACTIVE'>, activityStatus=<_TenantActivistatusServerValues.HOT: 'HOT'>),\n",
       " 'deploy_mind_a82966300baf45568c78d680f3e408f6': Tenant(name='deploy_mind_a82966300baf45568c78d680f3e408f6', activityStatusInternal=<TenantActivityStatus.ACTIVE: 'ACTIVE'>, activityStatus=<_TenantActivistatusServerValues.HOT: 'HOT'>),\n",
       " 'deploy_mind_6fe34b555a0a4c4b9a265bd1611b7c65': Tenant(name='deploy_mind_6fe34b555a0a4c4b9a265bd1611b7c65', activityStatusInternal=<TenantActivityStatus.ACTIVE: 'ACTIVE'>, activityStatus=<_TenantActivistatusServerValues.HOT: 'HOT'>),\n",
       " 'deploy_mind_55e064a24a7a4c24a74c4c230c9c8092': Tenant(name='deploy_mind_55e064a24a7a4c24a74c4c230c9c8092', activityStatusInternal=<TenantActivityStatus.ACTIVE: 'ACTIVE'>, activityStatus=<_TenantActivistatusServerValues.HOT: 'HOT'>),\n",
       " 'deploy_mind_85b5761928f644e58038da51d844433f': Tenant(name='deploy_mind_85b5761928f644e58038da51d844433f', activityStatusInternal=<TenantActivityStatus.ACTIVE: 'ACTIVE'>, activityStatus=<_TenantActivistatusServerValues.HOT: 'HOT'>),\n",
       " 'deploy_mind_6eaf28fbe74747aaacfd2dbfb43ebddc': Tenant(name='deploy_mind_6eaf28fbe74747aaacfd2dbfb43ebddc', activityStatusInternal=<TenantActivityStatus.ACTIVE: 'ACTIVE'>, activityStatus=<_TenantActivistatusServerValues.HOT: 'HOT'>)}"
      ]
     },
     "execution_count": 4,
     "metadata": {},
     "output_type": "execute_result"
    }
   ],
   "source": [
    "multi_collection = client.collections.get(\"LangChain_agd_7bb158e64c93bea491df09894psd\")\n",
    "tenants = multi_collection.tenants.get()\n",
    "print(len(tenants))\n",
    "tenants"
   ]
  },
  {
   "cell_type": "code",
   "execution_count": 5,
   "metadata": {},
   "outputs": [
    {
     "data": {
      "text/plain": [
       "[Object(uuid=_WeaviateUUIDInt('104e082c-c094-46f0-a545-280fb56b16c8'), metadata=MetadataReturn(creation_time=None, last_update_time=None, distance=None, certainty=None, score=None, explain_score=None, is_consistent=None, rerank_score=None), properties={'text': 'Functional Design meeting\\nPresented by: <name>, Project Manager\\nAgenda\\nOpening\\nProject Manager = secretary (minutes)\\n3 presentations\\nNew project requirements\\nDecision on remote control functions\\nClosing (we have 40 minutes!)\\nClosing\\nNow: lunch break\\nThen 30 minutes of individual work\\nPM: puts minutes in Project Documents folder\\nIndividual actions\\nID: the components concept \\nUID: the user interface concept \\nME: trend watching \\nSpecific instructions will be sent to you by your personal coach.', 'filename': 'IS1006docs.Participant1.Agenda1.ppt'}, references=None, vector={}, collection='LangChain_agd_7bb158e64c93bea491df09894psd'),\n",
       " Object(uuid=_WeaviateUUIDInt('1568fbec-3ebf-46f0-bacd-eb6d9849dd07'), metadata=MetadataReturn(creation_time=None, last_update_time=None, distance=None, certainty=None, score=None, explain_score=None, is_consistent=None, rerank_score=None), properties={'text': 'Channel selection often and very relevant\\nVolume selection not often and very relev\\nAudio settings not often not relevant\\nScreen settings not often not relevant\\nTeletext not often but relevant\\nChannel settings not often not relevant\\nSpeech Reco in the remote', 'filename': 'IS1006docs.Participant4.Functional_requirements.ppt'}, references=None, vector={}, collection='LangChain_agd_7bb158e64c93bea491df09894psd'),\n",
       " Object(uuid=_WeaviateUUIDInt('16a1ee57-a750-4329-92a8-3ee8c8dd75f0'), metadata=MetadataReturn(creation_time=None, last_update_time=None, distance=None, certainty=None, score=None, explain_score=None, is_consistent=None, rerank_score=None), properties={'text': 'Components Design\\nPresented by: Rama Rao, Industrial Designer\\nMethod\\x0b\\nEnergy source \\nBattery \\nUse of Solar cells\\nMaterial\\nplastic, rubber (such as used in anti-RSI stress balls), wood, and titanium \\nInterface\\nPush buttons\\nLCD \\nFindings\\nnew speech recognition feature: \\nthe integrated, programmable, sample sensor/sample speaker unit. \\nLocation of Remote control\\nPersonal Preferences\\nBattery\\nTitanium (no double curved)\\nPush button as it requires simple chip', 'filename': 'IS1006docs.Participant2.Components_design.ppt'}, references=None, vector={}, collection='LangChain_agd_7bb158e64c93bea491df09894psd'),\n",
       " Object(uuid=_WeaviateUUIDInt('3bd8893d-6189-434c-b7db-8e0a6c7ca14d'), metadata=MetadataReturn(creation_time=None, last_update_time=None, distance=None, certainty=None, score=None, explain_score=None, is_consistent=None, rerank_score=None), properties={'text': 'by others, and... invent.\\n\\t- Recent investigation rank:\\n\\t\\t1- fancy look-and-feel\\n\\t\\t2- innovative\\n\\t\\t3- easy to use\\n\\t- Recent Fashion (Paris/Milan):\\n\\t\\t- Fruits and vegetables look + spongy\\n\\t-> RAMA: How do you get info?\\n\\t-> SAMY: Informators.\\nDiscussion aboout conclusion:\\n- Speech reco\\n- Fancy look-and-feel\\n- Explore shape (Titanium or Spongy?)\\n- LCD\\n- Battery.', 'filename': 'IS1006docs.ProjectDocuments.minutes..-meeting2.txt'}, references=None, vector={}, collection='LangChain_agd_7bb158e64c93bea491df09894psd'),\n",
       " Object(uuid=_WeaviateUUIDInt('4e4319b5-e3d6-4458-a45f-705a555a2293'), metadata=MetadataReturn(creation_time=None, last_update_time=None, distance=None, certainty=None, score=None, explain_score=None, is_consistent=None, rerank_score=None), properties={'text': 'Kick-Off meeting\\nPresented by: <Name>, Project Manager\\nAgenda\\nOpening\\nAcquaintance\\nTool training \\nProject plan\\nDiscussion\\nClosing (we have 25 minutes!)\\nProject Aim\\nNew remote control\\nOriginal\\nTrendy\\nUser friendly\\nProject Method\\nFunctional design \\nIndividual work\\nMeeting\\nConceptual design\\nIndividual work\\nMeeting\\nDetailed design\\nIndividual work\\nMeeting\\nTool Training\\nTry out the whiteboard!\\nParticipants can draw their favorite animal and list its favorite characteristics\\nProject Finance\\nSelling price: 25 euro\\nProfit aim: 50 MEuro\\nMarket range: international\\nProduction costs: max. 12.50 euro\\nDiscussion\\nExamples:\\nExperience with remote control\\nFirst ideas new remote\\nEtc.\\nClosing\\nNext meeting starts in 30 minutes\\nIndividual actions\\nID: the working design\\nUID: the technical functions design \\nME: the user requirements specification \\nSpecific instructions will be send to you by your personal coach.', 'filename': 'IS1006docs.Participant1.PresentationKickOff.ppt'}, references=None, vector={}, collection='LangChain_agd_7bb158e64c93bea491df09894psd'),\n",
       " Object(uuid=_WeaviateUUIDInt('5390f1b9-418f-47d5-abcf-37d5ce9ffae9'), metadata=MetadataReturn(creation_time=None, last_update_time=None, distance=None, certainty=None, score=None, explain_score=None, is_consistent=None, rerank_score=None), properties={'text': 'CONCEPTUAL DESIGN MEETING:\\n-------------------------\\n-ID: Rama Rao.\\n\\t* Issues to be addressed\\n\\t- Energy : Usual Battery or Solar Battery\\n\\t- Matterial\\n\\t- Control\\n\\t- Extra: speech reco and location\\n-> Preferences:\\n\\t- Battery\\n\\t- Titaninum (Maybe part rubber)\\n\\t- Simple Button + Speech Reco, instead of LCD\\n\\t-> MARK: keep LCD for user informations\\n\\t-> SAMY: + lightness for battery\\n\\t\\t + speech reco for location\\n\\t\\t RAMA: OK if speaker independant\\n-UID: Mark Twight.\\n\\t- Old fashioned remote control->NO\\n\\t- new: titanium, LCD, few button\\n\\t-> SAMY: What about color?\\n\\t-> MARK: Colored LCD, Changeable?\\n\\t-> RAMA: Make it an option?\\n\\t-> MARK FINAL QUESTION: Do we wnat a \"smart device\"\\n\\t-> Discussion on \"smart\" meaning: it can be locked and \\n\\t\"knows you device\"\\n-ME: Samy Bengio.\\n\\t*Defining TREND:\\n\\t- HOw to measure trend: WEB, ask people,be inspired \\n\\tby others, and... invent.\\n\\t- Recent investigation rank:\\n\\t\\t1- fancy look-and-feel\\n\\t\\t2- innovative\\n\\t\\t3- easy to use\\n\\t- Recent Fashion (Paris/Milan):', 'filename': 'IS1006docs.ProjectDocuments.minutes..-meeting2.txt'}, references=None, vector={}, collection='LangChain_agd_7bb158e64c93bea491df09894psd'),\n",
       " Object(uuid=_WeaviateUUIDInt('56c0b4ec-91ce-4c63-b0a5-805ecc1b7626'), metadata=MetadataReturn(creation_time=None, last_update_time=None, distance=None, certainty=None, score=None, explain_score=None, is_consistent=None, rerank_score=None), properties={'text': 'Conceptual Design meeting\\nPresented by: <name>, Project Manager\\nAgenda\\nOpening\\nPM = secretary (minutes)\\n3 presentations\\nDecision on remote control concepts\\nClosing (we have 40 minutes!)\\nDecisions\\nComponents concept?\\nEnergy?\\nChip on print\\nCase\\nUser interface concept?\\nInterface\\nType\\nSupplements\\nClosing\\nNext meeting starts in 30 minutes\\nIndividual actions\\nID: the look-and-feel design \\nUID: the user-interface design \\nME: product evaluation \\nID and UID work together on prototype using modeling clay\\nSpecific instructions will be sent to you by your personal coach.', 'filename': 'IS1006docs.Participant1.Agenda2.ppt'}, references=None, vector={}, collection='LangChain_agd_7bb158e64c93bea491df09894psd'),\n",
       " Object(uuid=_WeaviateUUIDInt('64168ff6-72df-4fcf-aae3-d6ee93a83ad1'), metadata=MetadataReturn(creation_time=None, last_update_time=None, distance=None, certainty=None, score=None, explain_score=None, is_consistent=None, rerank_score=None), properties={'text': 'Interface Concept\\nPresented by: User Interface Designer\\nMethod\\x0b\\n<Discuss your working method>\\x0b\\nFindings\\nPersonal Preferences', 'filename': 'IS1006docs.Participant3.Interface_concept.ppt'}, references=None, vector={}, collection='LangChain_agd_7bb158e64c93bea491df09894psd'),\n",
       " Object(uuid=_WeaviateUUIDInt('71e03f0b-aeea-4188-b9a0-6ddfc3722fb5'), metadata=MetadataReturn(creation_time=None, last_update_time=None, distance=None, certainty=None, score=None, explain_score=None, is_consistent=None, rerank_score=None), properties={'text': 'Evaluation criteria\\nPresented by: Samy Bengio, Marketing Expert\\nMethod\\x0b\\nEvaluation of the prototype is VERY IMPORTANT\\nWe need quantitative methods to assess\\nLet us use a quantitative scale:\\nFrom 1 (strong yes) to 7 (strong no) for each criterion\\nThen, average!\\nEvaluation Criteria\\nFancy\\nTechnology-full\\nRobust\\nUseful\\nRight size and weight \\nRight color and shape\\nAdaptive', 'filename': 'IS1006docs.Participant4.Evaluation.ppt'}, references=None, vector={}, collection='LangChain_agd_7bb158e64c93bea491df09894psd'),\n",
       " Object(uuid=_WeaviateUUIDInt('7f3a85ee-b4eb-4e53-90e2-6e590502c2d3'), metadata=MetadataReturn(creation_time=None, last_update_time=None, distance=None, certainty=None, score=None, explain_score=None, is_consistent=None, rerank_score=None), properties={'text': 'Technical Functions Design\\nPresented by: Mark Twight,\\nUser Interface Designer\\nMethod\\x0b\\nOccam Razor Princple\\n\\t\\t- not to complicate\\n\\t\\t- never easy-to-use enough\\nProvide simple desires into simple actions. \\nFindings\\n*) style is the passion\\nCONCEPT\\nBe simple.\\nPersonal Preferences\\nTitanium \\nScreen Backlight\\nFew buttons\\nEasy-to-find-and-click\\n- Automatic turn on\\\\off', 'filename': 'IS1006docs.Participant3.Technical_functions.ppt'}, references=None, vector={}, collection='LangChain_agd_7bb158e64c93bea491df09894psd'),\n",
       " Object(uuid=_WeaviateUUIDInt('81101bcf-a38f-4e71-bc95-9b1e077c9e59'), metadata=MetadataReturn(creation_time=None, last_update_time=None, distance=None, certainty=None, score=None, explain_score=None, is_consistent=None, rerank_score=None), properties={'text': 'Working Design\\nPresented by: Rama Rao, Industrial Designer\\nMethod\\nThe basic function of a remote control is to send messages to another system.\\nAn energy source feeds an integrated circuit (chip) that can compose messages, often in the form of infrared bits. \\nA user interface controls the chip, and accordingly the messages. \\nComponents\\nPower Source\\nUser Interface (keypad, VR, etc)\\nProgrammable DSP\\nIR LED\\nSwitch\\nEncryption codes for different TV makes\\nInfrared bulb\\nBulb  \\nSwitch  \\nEnergy source \\nWire\\nChip  \\nSubcomponent  \\nUser Interface\\n(buttons)\\nAll powerful chip \\nIR LED \\nPhototransistor', 'filename': 'IS1006docs.Participant2.Working_design.ppt'}, references=None, vector={}, collection='LangChain_agd_7bb158e64c93bea491df09894psd'),\n",
       " Object(uuid=_WeaviateUUIDInt('84254e79-f8f6-4419-8bc5-14b77e34acb8'), metadata=MetadataReturn(creation_time=None, last_update_time=None, distance=None, certainty=None, score=None, explain_score=None, is_consistent=None, rerank_score=None), properties={'text': 'Interface Concept\\nPresented by: Mark Twight,\\nUser Interface Designer\\nNO\\nYes.\\nI’ll buy it.\\nSplendid.\\nPerfect.\\n- SHOULD THE REMOTE CONTROL PROVIDE ANY ADVANCED REACTIONS?', 'filename': 'IS1006docs.Participant3.Interface_concept_NOW.ppt'}, references=None, vector={}, collection='LangChain_agd_7bb158e64c93bea491df09894psd'),\n",
       " Object(uuid=_WeaviateUUIDInt('8b3ac32f-756c-45f8-af70-d68a227d731a'), metadata=MetadataReturn(creation_time=None, last_update_time=None, distance=None, certainty=None, score=None, explain_score=None, is_consistent=None, rerank_score=None), properties={'text': 'Detailed Design meeting\\nPresented by: <name>, Project Manager\\nAgenda\\nOpening\\nPM = secretary (minutes)\\nPrototype presentation\\nEvaluation criteria\\nFinance\\nProduction evaluation\\nClosing (we have 40 minutes!)\\nFinance\\nExcel sheet\\nCalculate production costs\\nAre the cost under 12.50 euro?\\nNo: \\tredesign\\nYes: project evaluation (next slide)\\nProject evaluation\\nProject process\\nSatisfaction on for example\\nRoom for creativity\\nLeadership\\nTeamwork\\nMeans (e.g., whiteboard, digital pens, etc.)\\nNew ideas found?\\nClosing\\nAre the costs within the budget?\\nIs the project evaluated?\\nThen: Celebration!', 'filename': 'IS1006docs.Participant1.Agenda3.ppt'}, references=None, vector={}, collection='LangChain_agd_7bb158e64c93bea491df09894psd'),\n",
       " Object(uuid=_WeaviateUUIDInt('b7e03288-2f1b-43f1-92ad-6d449f0e9e3a'), metadata=MetadataReturn(creation_time=None, last_update_time=None, distance=None, certainty=None, score=None, explain_score=None, is_consistent=None, rerank_score=None), properties={'text': 'FUNCTIONNAL MEETING:\\n- ME : Samy Bengio.\\n\\t* Survey:\\n\\t  - Users dislike: colors, behavior\\n\\t  - Users Frustation : too complicated, RSI\\n\\t  - Function used: Power, channel, volume,\\n\\t  - And less used : Audio, screen, teletext\\n\\t  - Speech Reco is trendy for young people, less for older\\n=> Few buttons, target young people\\n# Abandon teletext\\n- UID :  Mark Twight.\\n\\t- Method : Simplity\\n\\t- Concept : Be simple\\n\\t- Screen Button (for less used funct.) + Few Button + Titanium\\n\\t-> Proposed New Functions : Automatic on/off, volume base on position\\n# Need survey on how button are used.\\n- ID: Rama Rao\\n\\t- What is essential: Energy source, user interface controls\\n\\t- Use Speech reco is feasable.\\nConclusion:\\n- target young people, few button, speech reco', 'filename': 'IS1006docs.ProjectDocuments.minutes..-meeting1.txt'}, references=None, vector={}, collection='LangChain_agd_7bb158e64c93bea491df09894psd'),\n",
       " Object(uuid=_WeaviateUUIDInt('bd520fd5-be5c-4d89-ac63-c6606b961859'), metadata=MetadataReturn(creation_time=None, last_update_time=None, distance=None, certainty=None, score=None, explain_score=None, is_consistent=None, rerank_score=None), properties={'text': 'Trend Watching\\nPresented by: Samy Bengio, Marketing Expert\\nHow to watch the trends\\x0b\\nLook on the web\\nAsk people\\nBe inspired\\nInvent it (risky but $$$)\\nExecutive Summary\\nRecent investigation of the remote control market shows the following. \\nThe most important aspect for remote controls happens to be a fancy look-and-feel, instead of the current functional look-and-feel. This aspect is twice as important as the second aspect. \\nThe second most important aspect is that a remote control should be technological innovative. In turn, this aspect is twice as important as the next aspect. \\nThe third most important aspect is that the remote control should be easy-to-use. \\nRecent Fashion Update\\nFashion watchers in Paris and Milan have detected the following trends. \\nThis year, fruit & vegetables will be the most important theme for cloths, shoes, and furniture.\\nAlso in contrast to last year, the feel of material is expected to be spongy.', 'filename': 'IS1006docs.Participant4.Trend_watching.ppt'}, references=None, vector={}, collection='LangChain_agd_7bb158e64c93bea491df09894psd'),\n",
       " Object(uuid=_WeaviateUUIDInt('d0b37141-00cd-46a9-8924-ef2b1ea99597'), metadata=MetadataReturn(creation_time=None, last_update_time=None, distance=None, certainty=None, score=None, explain_score=None, is_consistent=None, rerank_score=None), properties={'text': 'Functional Requirements\\nPresented by: Samy Bengio, Market Expert\\nMethod\\x0b\\nAsk the users themselves about\\nWhat they like\\nWhat they don’t like\\nIn current remote controls\\nAnd what they DO with them\\nFindings\\nUsers dislike the look-and-feel of current remote controls \\n75% of users find most remote controls ugly \\n80% of users would spend more money when a remote control would look fancy \\nCurrent remote controls do not match well the operating behavior of the user \\n75% of users said they zap a lot \\n50% of users say they only use 10% of the buttons \\nThe biggest frustrations users expressed\\nRemote controls are often lost somewhere in the room (50%) \\nIt takes too much time to learn how to use a new remote control (34%) \\nRemote controls are bad for RSI (26%) \\nFunctions used\\nPower\\tnot often but very relevant\\nChannel selection often and very relevant\\nVolume selection not often and very relev\\nAudio settings not often not relevant\\nScreen settings not often not relevant\\nTeletext not often but relevant', 'filename': 'IS1006docs.Participant4.Functional_requirements.ppt'}, references=None, vector={}, collection='LangChain_agd_7bb158e64c93bea491df09894psd'),\n",
       " Object(uuid=_WeaviateUUIDInt('e65be7f4-3ff5-4f4d-ba44-bf2774ed6b16'), metadata=MetadataReturn(creation_time=None, last_update_time=None, distance=None, certainty=None, score=None, explain_score=None, is_consistent=None, rerank_score=None), properties={'text': 'REMOTE CONTROL\\nPresented by: \\n- Mark Twight,  Rama Rao -\\nYes.\\nI’ll buy it.\\nSplendid.\\nPerfect.\\nTITANIUM\\nFunction\\nPosition\\nMaterial\\nForm\\nColor\\nPrototype\\nFunction\\nPower ON/OFF\\nVolume control\\nLCD controls\\nSpeech Recognizer\\nLocation \\nPosition\\nstrawberry\\nMaterial\\nUltimate fruit-smelling spongy titanium alloy\\nForm\\n- Simply perfect.\\nColor\\nMonday\\nTuesday\\nWednesday\\nThursday\\nFriday\\nSaturday\\nSunday\\nSunday\\nSunday\\n…… \\n\\n\\nParty\\nWelcome.', 'filename': 'IS1006docs.Participant3.Prototype.ppt'}, references=None, vector={}, collection='LangChain_agd_7bb158e64c93bea491df09894psd')]"
      ]
     },
     "execution_count": 5,
     "metadata": {},
     "output_type": "execute_result"
    }
   ],
   "source": [
    "my_tenant = multi_collection.with_tenant(\"deploy_mind_017d7960aac74e198b57424574b202c2\")\n",
    "response = my_tenant.query.fetch_objects(include_vector=False)\n",
    "response.objects"
   ]
  }
 ],
 "metadata": {
  "kernelspec": {
   "display_name": "mm_agenda_generation_research",
   "language": "python",
   "name": "python3"
  },
  "language_info": {
   "codemirror_mode": {
    "name": "ipython",
    "version": 3
   },
   "file_extension": ".py",
   "mimetype": "text/x-python",
   "name": "python",
   "nbconvert_exporter": "python",
   "pygments_lexer": "ipython3",
   "version": "3.10.16"
  }
 },
 "nbformat": 4,
 "nbformat_minor": 2
}
