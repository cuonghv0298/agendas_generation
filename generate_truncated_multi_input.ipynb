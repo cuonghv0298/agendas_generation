{
 "cells": [
  {
   "cell_type": "code",
   "execution_count": 1,
   "metadata": {},
   "outputs": [],
   "source": [
    "import os \n",
    "import json \n",
    "import random\n",
    "from src.utils.generate import Generation\n",
    "from src.utils import utils"
   ]
  },
  {
   "cell_type": "code",
   "execution_count": 2,
   "metadata": {},
   "outputs": [],
   "source": [
    "def load_1_shared_docs(root: str = '/datadrive/CuongHV/project/DATA/AMI_MS_Cleaned'):\n",
    "    \"\"\"\n",
    "    Load shared documents from the 1st file.\n",
    "    \"\"\"\n",
    "    files = os.listdir(root)\n",
    "    file = random.choice(files)\n",
    "    with open(f'{root}/{file}', 'r') as f:\n",
    "        data = json.load(f)\n",
    "    return data['shared-doc']"
   ]
  },
  {
   "cell_type": "markdown",
   "metadata": {},
   "source": [
    "# Generate 1 truncated multi input "
   ]
  },
  {
   "cell_type": "code",
   "execution_count": 3,
   "metadata": {},
   "outputs": [],
   "source": [
    "# load 1 truncated shared_docs\n",
    "shared_docs =load_1_shared_docs()\n",
    "truncated_shared_docs = utils.truncate_shared_docs(shared_docs, max_tokens=90000)"
   ]
  },
  {
   "cell_type": "code",
   "execution_count": 4,
   "metadata": {},
   "outputs": [],
   "source": [
    "from src.utils.generate import Generation \n",
    "from src.utils import utils\n",
    "file_config = utils.load_config(\"src/config/file_config.yml\")\n",
    "model_config = utils.load_config(file_config[\"llm_env\"][\"model_config_file\"])\n",
    "prompt_config = utils.load_config(file_config[\"llm_env\"][\"prompting_file\"])\n",
    "generate = Generation(prompt_config)"
   ]
  },
  {
   "cell_type": "code",
   "execution_count": 5,
   "metadata": {},
   "outputs": [],
   "source": [
    "from src.utils.llm_models import get_llm_model\n",
    "import os\n",
    "from dotenv import load_dotenv\n",
    "load_dotenv()\n",
    "config = {\n",
    "    'openai_api_key': os.getenv(\"OPENAI_API_KEY\"),\n",
    "    'llm_choice': 'OpenAI', # Ollama\n",
    "    'model_choice': 'gpt-4o-mini', # gpt-4o\n",
    "    'parameters': {\n",
    "        'temperature': 0.2,\n",
    "        'top_p': 0.95,\n",
    "        'max_retries': 2,\n",
    "    },\n",
    "}\n",
    "llm = get_llm_model(\n",
    "    chatmodel=config['llm_choice'], \n",
    "    model_name=config['model_choice'], \n",
    "    param=config['parameters'], \n",
    ")"
   ]
  },
  {
   "cell_type": "code",
   "execution_count": 6,
   "metadata": {},
   "outputs": [
    {
     "data": {
      "text/plain": [
       "{'text': '```\\n**Meeting Agenda: Remote Control Design Project Update**  \\n\\n1. **Introductions and Meeting Overview (5 minutes)**  \\n  + **Meeting Objectives (2 minutes)**  \\n    + Confirm the purpose of the meeting: to discuss design updates and decisions on the remote control project.  \\n    + Outline focus areas: design components, user interface, and marketing strategies.  \\n  + **Team Introductions (3 minutes)**  \\n    + Brief introductions of team members and their roles in the project.  \\n    + Overview of the project’s current status.\\n\\n2. **Design Presentations (10 minutes)**  \\n  + **Components Design Update (5 minutes)**  \\n    + Presentation by Christine on the conceptual specification of components.  \\n    + Discussion on materials and findings from past evaluations.  \\n  + **User Interface Design Update (5 minutes)**  \\n    + Presentation by Agnes on the user interface functionalities and design considerations.  \\n    + Review of feedback on the first draft of the user interface.\\n\\n3. **Discussion on Key Features (10 minutes)**  \\n  + **Feature Exploration (5 minutes)**  \\n    + Discuss the integration of speech recognition and other innovative features.  \\n    + Gather input on user preferences and market trends.  \\n  + **Challenges and Solutions (5 minutes)**  \\n    + Identify obstacles in the design process and propose collaborative solutions.  \\n    + Discuss budget constraints and production feasibility.\\n\\n4. **Decision-Making (5 minutes)**  \\n  + **Review Key Decisions (3 minutes)**  \\n    + Confirm decisions made regarding design features and user interface elements.  \\n    + Ensure clarity on the implications of these decisions for the project timeline.  \\n  + **Next Steps (2 minutes)**  \\n    + Outline immediate next steps for team members following the meeting.  \\n    + Assign responsibilities for upcoming tasks and deadlines.\\n\\n5. **Action Items and Closing (5 minutes)**  \\n  + **Task Assignments (3 minutes)**  \\n    + Clearly assign tasks to team members with specific deadlines.  \\n    + Ensure everyone understands their responsibilities moving forward.  \\n  + **Open Floor for Questions (2 minutes)**  \\n    + Allow team members to raise any additional questions or concerns.  \\n    + Summarize key points discussed and confirm understanding.\\n\\n**Total Time: 35 minutes**\\n```',\n",
       " '__run': {'run_id': UUID('c5d87fce-5a59-4654-b191-1caeee1e83e7')}}"
      ]
     },
     "execution_count": 6,
     "metadata": {},
     "output_type": "execute_result"
    }
   ],
   "source": [
    "from langchain_core.tracers.context import tracing_v2_enabled\n",
    "\n",
    "with tracing_v2_enabled(project_name=\"generate_truncated_multi_input\"):\n",
    "    agenda = generate.generate_truncated_multi_input_agenda(llm=llm, shared_docs=truncated_shared_docs)\n",
    "agenda "
   ]
  },
  {
   "cell_type": "code",
   "execution_count": 7,
   "metadata": {},
   "outputs": [
    {
     "name": "stdout",
     "output_type": "stream",
     "text": [
      "```\n",
      "**Meeting Agenda: Remote Control Design Project Update**  \n",
      "\n",
      "1. **Introductions and Meeting Overview (5 minutes)**  \n",
      "  + **Meeting Objectives (2 minutes)**  \n",
      "    + Confirm the purpose of the meeting: to discuss design updates and decisions on the remote control project.  \n",
      "    + Outline focus areas: design components, user interface, and marketing strategies.  \n",
      "  + **Team Introductions (3 minutes)**  \n",
      "    + Brief introductions of team members and their roles in the project.  \n",
      "    + Overview of the project’s current status.\n",
      "\n",
      "2. **Design Presentations (10 minutes)**  \n",
      "  + **Components Design Update (5 minutes)**  \n",
      "    + Presentation by Christine on the conceptual specification of components.  \n",
      "    + Discussion on materials and findings from past evaluations.  \n",
      "  + **User Interface Design Update (5 minutes)**  \n",
      "    + Presentation by Agnes on the user interface functionalities and design considerations.  \n",
      "    + Review of feedback on the first draft of the user interface.\n",
      "\n",
      "3. **Discussion on Key Features (10 minutes)**  \n",
      "  + **Feature Exploration (5 minutes)**  \n",
      "    + Discuss the integration of speech recognition and other innovative features.  \n",
      "    + Gather input on user preferences and market trends.  \n",
      "  + **Challenges and Solutions (5 minutes)**  \n",
      "    + Identify obstacles in the design process and propose collaborative solutions.  \n",
      "    + Discuss budget constraints and production feasibility.\n",
      "\n",
      "4. **Decision-Making (5 minutes)**  \n",
      "  + **Review Key Decisions (3 minutes)**  \n",
      "    + Confirm decisions made regarding design features and user interface elements.  \n",
      "    + Ensure clarity on the implications of these decisions for the project timeline.  \n",
      "  + **Next Steps (2 minutes)**  \n",
      "    + Outline immediate next steps for team members following the meeting.  \n",
      "    + Assign responsibilities for upcoming tasks and deadlines.\n",
      "\n",
      "5. **Action Items and Closing (5 minutes)**  \n",
      "  + **Task Assignments (3 minutes)**  \n",
      "    + Clearly assign tasks to team members with specific deadlines.  \n",
      "    + Ensure everyone understands their responsibilities moving forward.  \n",
      "  + **Open Floor for Questions (2 minutes)**  \n",
      "    + Allow team members to raise any additional questions or concerns.  \n",
      "    + Summarize key points discussed and confirm understanding.\n",
      "\n",
      "**Total Time: 35 minutes**\n",
      "```\n"
     ]
    }
   ],
   "source": [
    "print(agenda['text'])"
   ]
  },
  {
   "cell_type": "markdown",
   "metadata": {},
   "source": [
    "# Create the truncated multi input agenda for 67 Meetings"
   ]
  },
  {
   "cell_type": "code",
   "execution_count": 8,
   "metadata": {},
   "outputs": [],
   "source": [
    "import os \n",
    "from src.utils import utils\n",
    "import pandas as pd "
   ]
  },
  {
   "cell_type": "code",
   "execution_count": 9,
   "metadata": {},
   "outputs": [],
   "source": [
    "def load_data_path(path: str = \"EDA/token_data.csv\") -> pd.DataFrame:\n",
    "    \"\"\"\n",
    "    Load the data from the path\n",
    "    \"\"\"\n",
    "    df = pd.read_csv(path)\n",
    "    df_shared_docs = df[df[\"num_tokens_shared_doc\"] > 0]\n",
    "    return df_shared_docs\n",
    "def extract_data_from_file(file: str, root: str = '/datadrive/CuongHV/project/DATA/AMI_MS_Cleaned') -> pd.DataFrame:\n",
    "    \"\"\"\n",
    "    Extract the data from the file\n",
    "    \"\"\"\n",
    "    path = f'{root}/{file}'\n",
    "    with open(path, encoding='utf-8') as f:\n",
    "        jsondict = json.load(f)\n",
    "    return jsondict"
   ]
  },
  {
   "cell_type": "code",
   "execution_count": 10,
   "metadata": {},
   "outputs": [],
   "source": [
    "from src.utils.generate import Generation \n",
    "from src.utils import utils\n",
    "from src.utils.llm_models import get_llm_model\n",
    "import os\n",
    "from dotenv import load_dotenv\n",
    "load_dotenv()\n",
    "\n",
    "file_config = utils.load_config(\"src/config/file_config.yml\")\n",
    "model_config = utils.load_config(file_config[\"llm_env\"][\"model_config_file\"])\n",
    "prompt_config = utils.load_config(file_config[\"llm_env\"][\"prompting_file\"])\n",
    "generate = Generation(prompt_config)\n",
    "\n",
    "config = {\n",
    "    'openai_api_key': os.getenv(\"OPENAI_API_KEY\"),\n",
    "    'llm_choice': 'OpenAI', # Ollama\n",
    "    'model_choice': 'gpt-4o-mini', # gpt-4o\n",
    "    'parameters': {\n",
    "        'temperature': 0.2,\n",
    "        'top_p': 0.95,\n",
    "        'max_retries': 2,\n",
    "    },\n",
    "}\n",
    "llm = get_llm_model(\n",
    "    chatmodel=config['llm_choice'], \n",
    "    model_name=config['model_choice'], \n",
    "    param=config['parameters'], \n",
    ")"
   ]
  },
  {
   "cell_type": "code",
   "execution_count": 11,
   "metadata": {},
   "outputs": [
    {
     "name": "stdout",
     "output_type": "stream",
     "text": [
      "ES2004d.json\n",
      "Finish ES2004d.json\n",
      "ES2008b.json\n",
      "Finish ES2008b.json\n",
      "IS1004d.json\n",
      "Finish IS1004d.json\n",
      "IS1008a.json\n",
      "Finish IS1008a.json\n",
      "IS1004a.json\n",
      "Finish IS1004a.json\n",
      "IS1005b.json\n",
      "Finish IS1005b.json\n",
      "ES2008c.json\n",
      "Finish ES2008c.json\n",
      "ES2008d.json\n",
      "Finish ES2008d.json\n",
      "IS1006d.json\n",
      "Finish IS1006d.json\n",
      "IS1006c.json\n",
      "Finish IS1006c.json\n",
      "IS1005a.json\n",
      "Finish IS1005a.json\n",
      "ES2006d.json\n",
      "Finish ES2006d.json\n",
      "ES2004b.json\n",
      "Finish ES2004b.json\n",
      "ES2009d.json\n",
      "Finish ES2009d.json\n",
      "IS1005c.json\n",
      "Finish IS1005c.json\n",
      "ES2005a.json\n",
      "Finish ES2005a.json\n",
      "ES2006b.json\n",
      "Finish ES2006b.json\n",
      "IS1001c.json\n",
      "Finish IS1001c.json\n",
      "ES2003a.json\n",
      "Finish ES2003a.json\n",
      "IS1001d.json\n",
      "Finish IS1001d.json\n",
      "IS1001a.json\n",
      "Finish IS1001a.json\n",
      "ES2002b.json\n",
      "Finish ES2002b.json\n",
      "ES2004c.json\n",
      "Finish ES2004c.json\n",
      "ES2002a.json\n",
      "Finish ES2002a.json\n",
      "ES2003c.json\n",
      "Finish ES2003c.json\n",
      "ES2008a.json\n",
      "Finish ES2008a.json\n",
      "ES2006c.json\n",
      "Finish ES2006c.json\n",
      "ES2007d.json\n",
      "Finish ES2007d.json\n",
      "IS1009d.json\n",
      "Finish IS1009d.json\n",
      "IS1009b.json\n",
      "Finish IS1009b.json\n",
      "ES2005d.json\n",
      "Finish ES2005d.json\n",
      "IS1006b.json\n",
      "Finish IS1006b.json\n",
      "ES2009b.json\n",
      "Finish ES2009b.json\n",
      "ES2010d.json\n",
      "Finish ES2010d.json\n",
      "ES2002d.json\n",
      "Finish ES2002d.json\n",
      "IS1001b.json\n",
      "Finish IS1001b.json\n",
      "IS1003b.json\n",
      "Finish IS1003b.json\n",
      "ES2007b.json\n",
      "Finish ES2007b.json\n",
      "IS1004c.json\n",
      "Finish IS1004c.json\n",
      "IS1003d.json\n",
      "Finish IS1003d.json\n",
      "ES2002c.json\n",
      "Finish ES2002c.json\n",
      "IS1008b.json\n",
      "Finish IS1008b.json\n",
      "ES2005b.json\n",
      "Finish ES2005b.json\n",
      "ES2009a.json\n",
      "Finish ES2009a.json\n",
      "IS1003a.json\n",
      "Finish IS1003a.json\n",
      "ES2010b.json\n",
      "Finish ES2010b.json\n",
      "IS1009a.json\n",
      "Finish IS1009a.json\n",
      "ES2007c.json\n",
      "Finish ES2007c.json\n",
      "IS1007b.json\n",
      "Finish IS1007b.json\n",
      "IS1006a.json\n",
      "Finish IS1006a.json\n",
      "ES2007a.json\n",
      "Finish ES2007a.json\n",
      "IS1008d.json\n",
      "Finish IS1008d.json\n",
      "ES2010c.json\n",
      "Finish ES2010c.json\n",
      "IS1007c.json\n",
      "Finish IS1007c.json\n",
      "ES2005c.json\n",
      "Finish ES2005c.json\n",
      "IS1008c.json\n",
      "Finish IS1008c.json\n",
      "IS1007d.json\n",
      "Finish IS1007d.json\n",
      "IS1007a.json\n",
      "Finish IS1007a.json\n",
      "ES2006a.json\n",
      "Finish ES2006a.json\n",
      "ES2009c.json\n",
      "Finish ES2009c.json\n",
      "ES2004a.json\n",
      "Finish ES2004a.json\n",
      "ES2003b.json\n",
      "Finish ES2003b.json\n",
      "ES2010a.json\n",
      "Finish ES2010a.json\n",
      "IS1009c.json\n",
      "Finish IS1009c.json\n",
      "IS1003c.json\n",
      "Finish IS1003c.json\n",
      "ES2003d.json\n",
      "Finish ES2003d.json\n",
      "IS1004b.json\n",
      "Finish IS1004b.json\n"
     ]
    }
   ],
   "source": [
    "df_shared_docs = load_data_path()\n",
    "for file in df_shared_docs['file'].values:\n",
    "    print(file)\n",
    "    sample_jsondict = extract_data_from_file(file)\n",
    "    shared_docs = sample_jsondict['shared-doc']\n",
    "    # Truncate shared_docs to ensure num_tokens < 90000\n",
    "    truncate_shared_docs = utils.truncate_shared_docs(shared_docs, max_tokens=90000)\n",
    "    # Generate the template\n",
    "    with tracing_v2_enabled(project_name=\"generate_truncated_multi_input\"):\n",
    "        agenda = generate.generate_truncated_multi_input_agenda(llm=llm, shared_docs=truncate_shared_docs)\n",
    "    data = {\n",
    "        'truncate_shared_docs': truncate_shared_docs,\n",
    "        'agenda': agenda['text'], \n",
    "    }\n",
    "    with open(f'/datadrive/CuongHV/project/DATA/mm_agenda_generation_research_output/truncated_multi_input_agenda/{file}', 'a', encoding='utf-8') as f:\n",
    "        json.dump(data, f, ensure_ascii=False, indent=4)\n",
    "    print(f\"Finish {file}\")\n"
   ]
  },
  {
   "cell_type": "markdown",
   "metadata": {},
   "source": [
    "# Compare with Recap Agenda"
   ]
  },
  {
   "cell_type": "code",
   "execution_count": 31,
   "metadata": {},
   "outputs": [],
   "source": [
    "recap_root = '/datadrive/CuongHV/project/DATA/mm_agenda_generation_research_output/recap_agenda_title' \n",
    "truncatied_s_root = '/datadrive/CuongHV/project/DATA/mm_agenda_generation_research_output/truncated_single_input_agenda'\n",
    "file = 'ES2002a.json'\n",
    "def load_agenda(file, root):\n",
    "    \"\"\"\n",
    "    Load the agenda from the root\n",
    "    \"\"\"\n",
    "    path = f'{root}/{file}'\n",
    "    with open(path, 'r', encoding='utf-8') as f:\n",
    "        data = json.load(f)\n",
    "    return data['agenda']"
   ]
  },
  {
   "cell_type": "code",
   "execution_count": 32,
   "metadata": {},
   "outputs": [
    {
     "name": "stdout",
     "output_type": "stream",
     "text": [
      "**Meeting Agenda: Remote Control Design Project Kick-off**  \n",
      "1. **Introductions and Icebreaker (5 minutes)**  \n",
      "  + **Icebreaker Activity** (2 minutes)  \n",
      "    + Participants draw their favorite animal and describe its key characteristics.  \n",
      "  + **Overview of Participants** (3 minutes)  \n",
      "    + Brief introductions of team members and their roles in the project.  \n",
      "\n",
      "2. **Project Overview (10 minutes)**  \n",
      "  + **Project Goals Presentation** (5 minutes)  \n",
      "    + Outline of project objectives: design a trendy, original, and user-friendly remote control.  \n",
      "    + Financial guidelines: Selling price set at €25, with a production cost cap of €12.50.  \n",
      "  + **Discussion on Market Considerations** (5 minutes)  \n",
      "    + Explore international market implications and regional pricing strategies.  \n",
      "\n",
      "3. **Feature Brainstorming (10 minutes)**  \n",
      "  + **Core Functionalities Discussion** (5 minutes)  \n",
      "    + Identify essential features: multi-device compatibility, user-friendly interface, and additional functionalities.  \n",
      "  + **Design Considerations** (5 minutes)  \n",
      "    + Discuss design aesthetics and technological advancements (e.g., touch screens, streamlined designs).  \n",
      "\n",
      "4. **Next Steps and Responsibilities (5 minutes)**  \n",
      "  + **Action Items Assignment** (5 minutes)  \n",
      "    + Assign tasks to team members for the next phase of the project, including design and market research.  \n",
      "\n",
      "**Total Time:** 30 minutes\n"
     ]
    }
   ],
   "source": [
    "recap_agenda  = load_agenda(file, recap_root)\n",
    "print(recap_agenda)"
   ]
  },
  {
   "cell_type": "code",
   "execution_count": 24,
   "metadata": {},
   "outputs": [
    {
     "name": "stdout",
     "output_type": "stream",
     "text": [
      "**Meeting Agenda: Mando Remote Control Project Update**  \n",
      "\n",
      "1. **Opening and Introductions (5 minutes)**  \n",
      "   + **Welcome and Overview** (2 minutes)  \n",
      "     + Brief introduction of the project and its objectives.  \n",
      "     + Overview of the meeting agenda.  \n",
      "   + **Participant Introductions** (3 minutes)  \n",
      "     + Each participant shares their role in the project.  \n",
      "\n",
      "2. **Project Status Updates (10 minutes)**  \n",
      "   + **Functional Design Review** (5 minutes)  \n",
      "     + Summary of decisions made regarding the remote control's functionality.  \n",
      "     + Discussion on the exclusion of speech recognition and LCD features.  \n",
      "   + **Conceptual Design Insights** (5 minutes)  \n",
      "     + Presentation of the banana design concept and its implications.  \n",
      "     + Review of user interface options: scroll wheels and buttons.  \n",
      "\n",
      "3. **Cost Evaluation and Budget Discussion (10 minutes)**  \n",
      "   + **Production Cost Analysis** (5 minutes)  \n",
      "     + Presentation of the current cost analysis and budget constraints.  \n",
      "     + Discussion on the feasibility of production under the current budget.  \n",
      "   + **Future Cost Considerations** (5 minutes)  \n",
      "     + Explore potential cost-saving measures and additional features.  \n",
      "     + Discussion on market pricing strategy for the remote control.  \n",
      "\n",
      "4. **Next Steps and Individual Actions (5 minutes)**  \n",
      "   + **Action Item Assignments** (5 minutes)  \n",
      "     + Review of individual responsibilities and deadlines for the next phase of the project.  \n",
      "     + Confirm next meeting date and objectives.  \n",
      "\n",
      "**Total Time:** 30 minutes  \n"
     ]
    }
   ],
   "source": [
    "truncatied_s_agenda = load_agenda(file, truncatied_s_root)\n",
    "print(truncatied_s_agenda)"
   ]
  }
 ],
 "metadata": {
  "kernelspec": {
   "display_name": "mm_agenda_generation_research",
   "language": "python",
   "name": "python3"
  },
  "language_info": {
   "codemirror_mode": {
    "name": "ipython",
    "version": 3
   },
   "file_extension": ".py",
   "mimetype": "text/x-python",
   "name": "python",
   "nbconvert_exporter": "python",
   "pygments_lexer": "ipython3",
   "version": "3.10.16"
  }
 },
 "nbformat": 4,
 "nbformat_minor": 2
}
