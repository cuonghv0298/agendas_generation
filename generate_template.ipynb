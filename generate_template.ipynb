{
 "cells": [
  {
   "cell_type": "code",
   "execution_count": 1,
   "metadata": {},
   "outputs": [],
   "source": [
    "import os \n",
    "import pandas as pd \n",
    "import json\n",
    "import random\n",
    "from src.utils import utils\n"
   ]
  },
  {
   "cell_type": "code",
   "execution_count": 2,
   "metadata": {},
   "outputs": [
    {
     "name": "stdout",
     "output_type": "stream",
     "text": [
      "['ES2004d.json', 'ES2008b.json', 'IS1004d.json', 'IS1008a.json']\n"
     ]
    }
   ],
   "source": [
    "root = \"/datadrive/CuongHV/project/DATA/mm_agenda_generation_research_output/recap_agenda\"\n",
    "files = os.listdir(root)\n",
    "print(files[:4])"
   ]
  },
  {
   "cell_type": "code",
   "execution_count": 3,
   "metadata": {},
   "outputs": [
    {
     "name": "stdout",
     "output_type": "stream",
     "text": [
      "['IS1006c.json', 'IS1004c.json', 'ES2005c.json', 'ES2002d.json', 'ES2008b.json', 'ES2002a.json', 'ES2007c.json', 'IS1003d.json', 'ES2003a.json', 'IS1003a.json']\n"
     ]
    }
   ],
   "source": [
    "random_files = random.sample(files, 10)\n",
    "print(random_files)"
   ]
  },
  {
   "cell_type": "code",
   "execution_count": 4,
   "metadata": {},
   "outputs": [
    {
     "name": "stdout",
     "output_type": "stream",
     "text": [
      "['### Meeting Agenda\\n\\n1. **Introduction and Goals (5 minutes)**\\n   + **Overview of Meeting Objectives (2 minutes)**\\n     + Confirm the focus on component concepts, user interface, and trend analysis.\\n     + Set expectations for decisions to be made during the meeting.\\n   + **Team Assignments (3 minutes)**\\n     + Assign roles for the upcoming tasks: Rama (design), Mark (user interface), Sammy (product evaluation).\\n\\n2. **Component Discussion (10 minutes)**\\n   + **Battery and Material Options (5 minutes)**\\n     + Discuss the choice between simple batteries and solar cells.\\n     + Evaluate materials: titanium vs. rubber and implications for design.\\n   + **Interface Design and Features (5 minutes)**\\n     + Review the proposed user interface concepts, including push buttons vs. LCD display.\\n     + Discuss integration of speech recognition technology and its cost implications.\\n\\n3. **Trend Analysis and Design Direction (5 minutes)**\\n   + **Current Market Trends (2 minutes)**\\n     + Present findings on consumer preferences for fancy, innovative, and user-friendly designs.\\n   + **Design Theme Discussion (3 minutes)**\\n     + Explore the fruit and vegetable theme and its feasibility in the design.\\n     + Decide on the aesthetic direction: spongy vs. sleek titanium.\\n\\n**Total time: 20 minutes**', '### Meeting Agenda\\n\\n1. **Introduction (5 minutes)**\\n   + **Overview of Meeting Purpose (2 minutes)**\\n     + Discuss conceptual design for the remote control.\\n     + Recap decisions from the last meeting regarding technology and LCD screen.\\n   + **Presentation Overview (3 minutes)**\\n     + Outline the presentations from marketing, user interface, and industrial design.\\n\\n2. **Presentations (10 minutes)**\\n   + **Marketing Presentation (5 minutes)**\\n     + Emphasize the importance of a pleasant design and current trends (fruit/vegetable theme).\\n     + Discuss the decision to shape the remote like a banana.\\n   + **User Interface Presentation (5 minutes)**\\n     + Present the integrated programmable sample speaker unit and its potential use.\\n     + Propose design features: two scroll wheels (volume and channel) and a turbo button.\\n     + Discuss the base station for locating the remote.\\n\\n3. **Industrial Design Presentation (5 minutes)**\\n   + **Power Supply Options (2 minutes)**\\n     + Discuss battery options and the potential for solar cells.\\n   + **Material and Design Considerations (3 minutes)**\\n     + Suggest using elastic plastic for durability and a double curve for ergonomics.\\n     + Address concerns about the banana shape and explore stylized design options.\\n\\n4. **Decision-Making and Next Steps (5 minutes)**\\n   + **Review Key Decisions (3 minutes)**\\n     + Confirm no LCD screen, inclusion of a base station, RF for beeping, and design features (stylish banana shape, scroll wheels, turbo button).\\n   + **Assign Tasks for Next Meeting (2 minutes)**\\n     + Marketing to evaluate product appeal.\\n     + User interface and industrial design teams to collaborate on prototype development.\\n\\n**Total time: 25 minutes**', '### Meeting Agenda\\n\\n1. **Market Survey Results (5 minutes)**\\n   + **Overview of User Preferences (2 minutes)**\\n     + Discussed the importance of fancy design over functional look.\\n     + Highlighted the need for technological innovation in remote controls.\\n   + **Fashion Trends Impact (3 minutes)**\\n     + Reviewed findings on consumer preferences for organic and spongy materials.\\n     + Emphasized the relevance of fruit and vegetable themes in design.\\n\\n2. **Design Considerations (10 minutes)**\\n   + **User Interface and Competitor Analysis (5 minutes)**\\n     + Evaluated existing remote designs and their usability.\\n     + Discussed the potential inclusion of voice recognition and LCD screens.\\n   + **Internal Components and Materials (5 minutes)**\\n     + Confirmed the use of rubber or latex for a spongy feel.\\n     + Finalized color (yellow) and fruit-inspired shape for the remote.\\n     + Decided on a rechargeable battery and stand for the device.\\n\\n**Total time: 15 minutes**', \"### Meeting Agenda\\n\\n1. **Introduction and Recap (5 minutes)**\\n   + **Overview of Previous Decisions (2 minutes)**\\n     + Recap of the snowman-shaped remote control design.\\n     + Confirmation of features: no LCD display, kinetic power, rubber buttons, jog-dial, and slogan placement.\\n   + **Prototype Presentation (3 minutes)**\\n     + Team members present the prototype and its features.\\n     + Discussion of the prototype's dimensions and functionality.\\n\\n2. **Cost Evaluation and Feature Decisions (10 minutes)**\\n   + **Review of Production Costs (5 minutes)**\\n     + Discussion of the expense sheet and budget constraints.\\n     + Decisions on which features to retain or remove (e.g., LCD display, kinetic battery).\\n   + **Final Feature Set Confirmation (5 minutes)**\\n     + Confirm the final design specifications based on budget.\\n     + Discussion on button shapes, colors, and overall design aesthetics.\\n\\n3. **Prototype Evaluation (5 minutes)**\\n   + **Evaluation Criteria Discussion (2 minutes)**\\n     + Review of stylish look, technological innovation, simplicity, and material quality.\\n   + **Collective Rating and Feedback (3 minutes)**\\n     + Team members provide ratings and feedback on the prototype's performance against criteria.\\n\\n4. **Project Process Evaluation (5 minutes)**\\n   + **Discussion on Team Collaboration (2 minutes)**\\n     + Address concerns about creativity being hindered by budget and meeting structure.\\n   + **Feedback on Meeting Structure and Tools (3 minutes)**\\n     + Evaluate the effectiveness of tools used (e.g., digital pens, PowerPoint) and suggest improvements.\\n\\n**Total time: 25 minutes**\"]\n"
     ]
    }
   ],
   "source": [
    "agendas = []\n",
    "for file in random_files:\n",
    "    path = f'{root}/{file}'\n",
    "    with open(path, 'r') as f:\n",
    "        data = json.load(f)\n",
    "    agendas.append(data['agenda'])\n",
    "print(agendas[:4])  \n"
   ]
  },
  {
   "cell_type": "code",
   "execution_count": 5,
   "metadata": {},
   "outputs": [
    {
     "name": "stdout",
     "output_type": "stream",
     "text": [
      "### Meeting Agenda\n",
      "\n",
      "1. **Introduction and Goals (5 minutes)**\n",
      "   + **Overview of Meeting Objectives (2 minutes)**\n",
      "     + Confirm the focus on component concepts, user interface, and trend analysis.\n",
      "     + Set expectations for decisions to be made during the meeting.\n",
      "   + **Team Assignments (3 minutes)**\n",
      "     + Assign roles for the upcoming tasks: Rama (design), Mark (user interface), Sammy (product evaluation).\n",
      "\n",
      "2. **Component Discussion (10 minutes)**\n",
      "   + **Battery and Material Options (5 minutes)**\n",
      "     + Discuss the choice between simple batteries and solar cells.\n",
      "     + Evaluate materials: titanium vs. rubber and implications for design.\n",
      "   + **Interface Design and Features (5 minutes)**\n",
      "     + Review the proposed user interface concepts, including push buttons vs. LCD display.\n",
      "     + Discuss integration of speech recognition technology and its cost implications.\n",
      "\n",
      "3. **Trend Analysis and Design Direction (5 minutes)**\n",
      "   + **Current Market Trends (2 minutes)**\n",
      "     + Present findi\n"
     ]
    }
   ],
   "source": [
    "agendas_text = '\\n'.join(agendas)\n",
    "print(agendas_text[:1000])"
   ]
  },
  {
   "cell_type": "code",
   "execution_count": 6,
   "metadata": {},
   "outputs": [
    {
     "data": {
      "text/plain": [
       "2973"
      ]
     },
     "execution_count": 6,
     "metadata": {},
     "output_type": "execute_result"
    }
   ],
   "source": [
    "utils.num_tokens_from_string(agendas_text)"
   ]
  },
  {
   "cell_type": "code",
   "execution_count": 7,
   "metadata": {},
   "outputs": [],
   "source": [
    "from src.utils.generate import Generation \n",
    "from src.utils import utils\n",
    "file_config = utils.load_config(\"src/config/file_config.yml\")\n",
    "model_config = utils.load_config(file_config[\"llm_env\"][\"model_config_file\"])\n",
    "prompt_config = utils.load_config(file_config[\"llm_env\"][\"prompting_file\"])\n",
    "generate = Generation(prompt_config)"
   ]
  },
  {
   "cell_type": "code",
   "execution_count": 8,
   "metadata": {},
   "outputs": [],
   "source": [
    "from src.utils.llm_models import get_llm_model\n",
    "import os\n",
    "from dotenv import load_dotenv\n",
    "load_dotenv()\n",
    "config = {\n",
    "    'openai_api_key': os.getenv(\"OPENAI_API_KEY\"),\n",
    "    'llm_choice': 'OpenAI', # Ollama\n",
    "    'model_choice': 'gpt-4o-mini', # gpt-4o\n",
    "    'parameters': {\n",
    "        'temperature': 0.2,\n",
    "        'top_p': 0.95,\n",
    "        'max_retries': 2,\n",
    "    },\n",
    "}\n",
    "llm = get_llm_model(\n",
    "    chatmodel=config['llm_choice'], \n",
    "    model_name=config['model_choice'], \n",
    "    param=config['parameters'], \n",
    ")"
   ]
  },
  {
   "cell_type": "code",
   "execution_count": 9,
   "metadata": {},
   "outputs": [
    {
     "data": {
      "text/plain": [
       "{'text': '```\\n### Meeting Agenda Template\\n\\n1. **Introduction (5 minutes)**\\n   + **Overview of Meeting Purpose (2 minutes)**\\n     + State the main objectives of the meeting.\\n     + Confirm focus areas for discussion.\\n   + **Team Introductions (3 minutes)**\\n     + Each member introduces themselves and their role.\\n     + Brief overview of the project or topic.\\n\\n2. **Project Updates (10 minutes)**\\n   + **Status Reports (5 minutes)**\\n     + Team members provide updates on their assigned tasks.\\n     + Highlight any significant developments or changes.\\n   + **Review of Previous Action Items (5 minutes)**\\n     + Discuss the status of tasks assigned in the last meeting.\\n     + Address any unfinished items or challenges encountered.\\n\\n3. **Discussion Topics (10 minutes)**\\n   + **Key Discussion Points (5 minutes)**\\n     + Identify and discuss major topics relevant to the project (e.g., design features, market analysis).\\n     + Encourage input and ideas from all team members.\\n   + **Challenges and Solutions (5 minutes)**\\n     + Discuss any obstacles faced and propose potential solutions.\\n     + Encourage collaborative problem-solving.\\n\\n4. **Decision-Making (5 minutes)**\\n   + **Review Key Decisions (3 minutes)**\\n     + Confirm any decisions made during the meeting.\\n     + Ensure clarity on the implications of these decisions.\\n   + **Next Steps (2 minutes)**\\n     + Outline the immediate next steps following the meeting.\\n     + Assign responsibilities for upcoming tasks.\\n\\n5. **Action Items (5 minutes)**\\n   + **Task Assignments (3 minutes)**\\n     + Clearly assign tasks to team members with deadlines.\\n     + Ensure everyone understands their responsibilities.\\n   + **Follow-Up Plan (2 minutes)**\\n     + Discuss the plan for the next meeting and any required follow-up actions.\\n\\n6. **Open Questions and Closing (5 minutes)**\\n   + **Open Floor for Questions (3 minutes)**\\n     + Allow team members to raise any additional questions or concerns.\\n   + **Wrap-Up (2 minutes)**\\n     + Summarize key points discussed and confirm understanding.\\n     + Thank participants for their contributions.\\n\\n**Total time: 40 minutes**\\n```\\nThis structured agenda template is designed to facilitate effective communication and project management during meetings. Each section is clearly defined, with allocated time to ensure efficiency and focus.',\n",
       " '__run': {'run_id': UUID('225c5fda-086d-49e0-9195-2b7e0f887609')}}"
      ]
     },
     "execution_count": 9,
     "metadata": {},
     "output_type": "execute_result"
    }
   ],
   "source": [
    "from langchain_core.tracers.context import tracing_v2_enabled\n",
    "\n",
    "with tracing_v2_enabled(project_name=\"agenda_template\"):\n",
    "    template = generate.generate_agenda_template(llm=llm, agendas=agendas_text)\n",
    "template "
   ]
  },
  {
   "cell_type": "code",
   "execution_count": 10,
   "metadata": {},
   "outputs": [
    {
     "name": "stdout",
     "output_type": "stream",
     "text": [
      "```\n",
      "### Meeting Agenda Template\n",
      "\n",
      "1. **Introduction (5 minutes)**\n",
      "   + **Overview of Meeting Purpose (2 minutes)**\n",
      "     + State the main objectives of the meeting.\n",
      "     + Confirm focus areas for discussion.\n",
      "   + **Team Introductions (3 minutes)**\n",
      "     + Each member introduces themselves and their role.\n",
      "     + Brief overview of the project or topic.\n",
      "\n",
      "2. **Project Updates (10 minutes)**\n",
      "   + **Status Reports (5 minutes)**\n",
      "     + Team members provide updates on their assigned tasks.\n",
      "     + Highlight any significant developments or changes.\n",
      "   + **Review of Previous Action Items (5 minutes)**\n",
      "     + Discuss the status of tasks assigned in the last meeting.\n",
      "     + Address any unfinished items or challenges encountered.\n",
      "\n",
      "3. **Discussion Topics (10 minutes)**\n",
      "   + **Key Discussion Points (5 minutes)**\n",
      "     + Identify and discuss major topics relevant to the project (e.g., design features, market analysis).\n",
      "     + Encourage input and ideas from all team members.\n",
      "   + **Challenges and Solutions (5 minutes)**\n",
      "     + Discuss any obstacles faced and propose potential solutions.\n",
      "     + Encourage collaborative problem-solving.\n",
      "\n",
      "4. **Decision-Making (5 minutes)**\n",
      "   + **Review Key Decisions (3 minutes)**\n",
      "     + Confirm any decisions made during the meeting.\n",
      "     + Ensure clarity on the implications of these decisions.\n",
      "   + **Next Steps (2 minutes)**\n",
      "     + Outline the immediate next steps following the meeting.\n",
      "     + Assign responsibilities for upcoming tasks.\n",
      "\n",
      "5. **Action Items (5 minutes)**\n",
      "   + **Task Assignments (3 minutes)**\n",
      "     + Clearly assign tasks to team members with deadlines.\n",
      "     + Ensure everyone understands their responsibilities.\n",
      "   + **Follow-Up Plan (2 minutes)**\n",
      "     + Discuss the plan for the next meeting and any required follow-up actions.\n",
      "\n",
      "6. **Open Questions and Closing (5 minutes)**\n",
      "   + **Open Floor for Questions (3 minutes)**\n",
      "     + Allow team members to raise any additional questions or concerns.\n",
      "   + **Wrap-Up (2 minutes)**\n",
      "     + Summarize key points discussed and confirm understanding.\n",
      "     + Thank participants for their contributions.\n",
      "\n",
      "**Total time: 40 minutes**\n",
      "```\n",
      "This structured agenda template is designed to facilitate effective communication and project management during meetings. Each section is clearly defined, with allocated time to ensure efficiency and focus.\n"
     ]
    }
   ],
   "source": [
    "print(template['text'])"
   ]
  },
  {
   "cell_type": "code",
   "execution_count": null,
   "metadata": {},
   "outputs": [],
   "source": []
  }
 ],
 "metadata": {
  "kernelspec": {
   "display_name": "mm_agenda_generation_research",
   "language": "python",
   "name": "python3"
  },
  "language_info": {
   "codemirror_mode": {
    "name": "ipython",
    "version": 3
   },
   "file_extension": ".py",
   "mimetype": "text/x-python",
   "name": "python",
   "nbconvert_exporter": "python",
   "pygments_lexer": "ipython3",
   "version": "3.10.16"
  }
 },
 "nbformat": 4,
 "nbformat_minor": 2
}
