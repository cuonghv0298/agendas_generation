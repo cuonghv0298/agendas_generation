{
 "cells": [
  {
   "cell_type": "code",
   "execution_count": 1,
   "metadata": {},
   "outputs": [],
   "source": [
    "import os \n",
    "import json \n",
    "import random\n",
    "from src.utils.generate import Generation\n"
   ]
  },
  {
   "cell_type": "markdown",
   "metadata": {},
   "source": [
    "# Create truncated fuction"
   ]
  },
  {
   "cell_type": "code",
   "execution_count": 2,
   "metadata": {},
   "outputs": [],
   "source": [
    "def load_1_shared_docs(root: str = '/datadrive/CuongHV/project/DATA/AMI_MS_Cleaned'):\n",
    "    \"\"\"\n",
    "    Load shared documents from the 1st file.\n",
    "    \"\"\"\n",
    "    files = os.listdir(root)\n",
    "    file = random.choice(files)\n",
    "    with open(f'{root}/{file}', 'r') as f:\n",
    "        data = json.load(f)\n",
    "    return data['shared-doc']"
   ]
  },
  {
   "cell_type": "code",
   "execution_count": 3,
   "metadata": {},
   "outputs": [],
   "source": [
    "shared_docs = load_1_shared_docs()"
   ]
  },
  {
   "cell_type": "code",
   "execution_count": 4,
   "metadata": {},
   "outputs": [
    {
     "data": {
      "text/plain": [
       "7285"
      ]
     },
     "execution_count": 4,
     "metadata": {},
     "output_type": "execute_result"
    }
   ],
   "source": [
    "from src.utils import utils\n",
    "utils.num_tokens_from_string(shared_docs)"
   ]
  },
  {
   "cell_type": "code",
   "execution_count": 5,
   "metadata": {},
   "outputs": [
    {
     "data": {
      "text/plain": [
       "'IS1008docs.Participant1.Agenda2.ppt \\n------------ \\nConceptual Design meeting\\nPresented by: Sridhar Dasari, Project Manager\\nAgenda\\nOpening\\nPM = secretary (minutes)\\n3 presentations\\nDecision on remote control concepts\\nClosing (we have 40 minutes!)\\nDecisions\\nComponents concept?\\nEnergy?\\nChip on print\\nCase\\nUser interface concept?\\nInterface\\nType\\nSupplements\\nClosing\\nNext meeting starts in 30 minutes\\nIndividual actions\\nID: the look-and-feel design \\nUID: the user-interface design \\nME: product evaluation \\nID and UID work together on prototype using modeling clay\\nSpecific instructions will be sent to you by your personal coach.\\nIS1008docs.Participant1.Agenda3.ppt \\n------------ \\nDetailed Design meeting\\nPresented by: Sridhar Dasari Project Manager\\nAgenda\\nOpening\\nPM = secretary (minutes)\\nPrototype presentation\\nEvaluation criteria\\nFinance\\nProduction evaluation\\nClosing (we have 40 minutes!)\\nFinance\\nExcel sheet\\nCalculate production costs\\nAre the cost under 12.50 euro?\\nNo: \\tredesign\\nYes: project evaluation (next slide)\\nProject evaluation\\nProject process\\nSatisfaction on for example\\nRoom for creativity\\nLeadership\\nTeamwork\\nMeans (e.g., whiteboard, digital pens, etc.)\\nNew ideas found?\\nClosing\\nAre the costs within the budget?\\nIs the project evaluated?\\nThen: Celebration!\\nIS1008docs.Participant1.AgendaMeeting2.ppt \\n------------ \\nFunctional Design meeting\\nPresented by: Sridhar Dasari, Project Manager\\nAgenda\\nOpening\\nProject Manager = secretary (minutes)\\n3 presentations\\nNew project requirements\\nDecision on remote control functions\\nClosing (we have 40 minutes!)\\nClosing\\nNow: lunch break\\nThen 30 minutes of individual work\\nPM: puts minutes in Project Documents folder\\nIndividual actions\\nID: the components concept \\nUID: the user interface concept \\nME: trend watching \\nSpecific instructions will be sent to you by your personal coach.\\nIS1008docs.Participant1.PresentationKickOff.ppt \\n------------ \\nKick-Off meeting\\nPresented by: <Dasari Sridhar, Project Manager\\nAgenda\\nOpening\\nAcquaintance\\nTool training \\nProject plan\\nDiscussion\\nClosing (we have 25 minutes!)\\nProject Aim\\nNew remote control\\nOriginal\\nTrendy\\nUser friendly\\nProject Method\\nFunctional design \\nIndividual work\\nMeeting\\nConceptual design\\nIndividual work\\nMeeting\\nDetailed design\\nIndividual work\\nMeeting\\nTool Training\\nTry out the whiteboard!\\nParticipants can draw their favorite animal and list its favorite characteristics\\nProject Finance\\nSelling price: 25 euro\\nProfit aim: 50 MEuro\\nMarket range: international\\nProduction costs: max. 12.50 euro\\nDiscussion\\nExamples:\\nExperience with remote control\\nFirst ideas new remote\\nEtc.\\nClosing\\nNext meeting starts in 30 minutes\\nIndividual actions\\nID: the working design\\nUID: the technical functions design \\nME: the user requirements specification \\nSpecific instructions will be send to you by your personal coach.\\nIS1008docs.Participant2.Components_design.ppt \\n------------ \\nComponents Design\\nPresented by: Christine\\nIndustrial Designer\\nMethod\\x0b\\nConceptual specification of components\\nCase \\nPower\\nBeam\\nMicrophone\\nSpeaker\\nMaterials\\nEvaluate use in the past\\nEvaluate new materials\\nContact Manufacturing for their input\\nFindings\\nMaterials for curved case\\nRubber \\nPlastic\\nTitanium\\nWood\\nChips\\nSimple\\uf0e0buttons \\nregular \\nadvanced chip on print\\nThe chip on print includes an infrared sender. Furthermore we just developed a sample sensor/ sample speaker\\nPersonal Preferences\\nDesigner woods\\nCarvings or engravings on order\\nSolar cells\\nMicrophone and Speaker on advanced chip\\nIS1008docs.Participant2.Working_design..1.ppt \\n------------ \\nWorking Design\\nPresented by: Christine \\nIndustrial Designer\\nMethod\\nIdentify User requirements\\nTurn television on and off the first time you press on the big button\\nEasy to find and hold\\nIdentify things that are popular \\niPod\\nNokia camera phone\\nDetermine the materials to use\\nHistory\\nZenith engineer Eugene Polley invented the \"Flashmatic,\" which represented the industry\\'s first wireless TV remote. \\nIntroduced in 1955, Flashmatic operated by means of four photo cells, one in each corner of the TV screen. The viewer used a highly directional flashlight to activate the four control functions, which turned the picture and sound on and off and changed channels by turning the tuner dial clockwise and counter-clockwise.\\nWhile it pioneered the concept of wireless TV remote control, the Flashmatic had some limitations. \\nIt was a simple device that had no protection circuits and, if the TV sat in an area in which the sun shone directly on it, the tuner might start rotating.\\nFindings\\nInfrared bulb\\nBulb  \\nSwitch  \\nEnergy source \\nWire\\nChip  \\nSubcomponent  \\nComponents\\nPersonal Preferences\\nInflatable (so that the size can vary according to user preferences)\\nColorful or Transparent\\nWaterproof\\nBeeps (loudly) or plays a tune\\nLong battery life\\nIS1008docs.Participant3.Interface_concept.ppt \\n------------ \\nInterface Concept\\nPresented by: Agnes,\\nUser Interface Designer\\nFunctionalities Used\\x0b\\nVisible\\nOn/off switch\\nVolume and channel control\\nMenu access button\\nErgonomic shape for easy holding\\nFlip screen\\nBattery life light\\nInvisible\\nAudio and tactile feedback of button presses\\nSingle word speech recognition \\nIS1008docs.Participant3.Interface_FinalDesign.ppt \\n------------ \\nInterface Concept\\nPresented by: Agnes\\nUser Interface Designer\\nSpecifying the case\\x0b\\ni. Form  - ergonomic shape\\nii. Material - wood\\niii. Color - customizable\\nInterface Elements\\n\\xa0i. Function \\nTurn on/off\\nVolume and channel control\\nMenu control\\nVoice recognition control\\nLCD screen on flip panel\\nii. Position \\nThe grand unveiling …\\nIS1008docs.Participant3.Technical_functions.ppt \\n------------ \\nTechnical Functions Design\\nPresented by: Agnes,  \\nUser Interface Designer\\nMethod\\x0b\\nNeed to look at what people like and don’t like about existing TV remote controls\\nNeed to look at why the good ideas are good and the bad ideas are bad\\nMay seem simple, but it’s not!\\nWhat functionalities do we want to use/keep\\nWhat should the remote look like\\nNeeded/Useful functionalities\\nTurn TV on/off\\nChange channels\\ndirectly\\nSurfing\\nControl the volume\\nControl menus on the tv\\n\\nProblems\\nToo many buttons on remote controls\\nWhat buttons do isn’t clear\\nOften need to know specific button sequences\\nButtons are too small\\nSome examples\\nPersonal Preferences\\nKeep number of buttons to a minimum\\nMake frequently used buttons bigger and more strategically placed\\nKeep the design sleek and simple\\nIS1008docs.Participant4.Functional_requirements.ppt \\n------------ \\nEvaluation criteria\\nPresented by: <Ed >, Marketing Expert\\nMethod\\x0b\\nIndependent study shows that the market buys nearly 8m per year\\nInternal company evaluation- market will\\npurchase between 8-9 m remotes next year\\x0b\\nFindings\\n- Target of 2m units to be sold\\n- Price must be 50€\\n- Production cost cannot exceed 25€\\n(obviously material, labor, transport,\\npromotion)\\nCompany must take 25% of the market\\n(over one year period)\\nEvaluation\\n1 Form\\n2 Fancy, stylish\\n3 Ease of use\\n4 Speech recognition\\n5 Cost\\nCompany must evaluate feasibility of being able to capture enough of the market to justify putting new remote into production.  \\nIS1008docs.Participant4.Trend_watching.ppt \\n------------ \\nTrend Watching\\nPresented by: Marketing Expert\\nMethod\\x0b\\n<We have been giving sample questionnaires in various areas to be able to make decisions as to what consumers are looking for.>\\n\\x0b\\nFindings\\nThe market trend is toward «\\xa0fancy and feel good\\xa0» style of remotes.\\nConsumers are looking for the «\\xa0next\\xa0» major inovation. \\nEasy to use has again become a major interest with consumers.\\nConsumers are willing to pay for new, exciting technology.\\nPersonal Preferences\\nIS1008docs.Participant1.ABSTRACT_1.doc \\n------------ \\n[ABSTRACT]   Write one paragraph of coherent text to summarize the meeting as a whole from your role’s perspective.\\n\\xa0Project Plan and Coordination. For new Remote Control.\\n\\xa0\\n\\xa0\\n\\xa0\\n\\xa0\\n\\xa0\\n\\xa0\\n\\xa0\\n\\xa0\\n\\t\\xa0\\n\\t[DECISIONS]   Name all decisions that were made during the meeting. Mark those decisions that you consider of high importance for your role with a *. Write fragmented notes.\\nFunctional Design fromö Christine\\n\\tUser Interface from : Agnes Barbara\\n\\tSales and Marketing Plan: ED\\n\\t\\xa0\\n\\t\\xa0\\n\\t\\xa0\\n\\t\\xa0\\n\\t\\xa0\\n\\t\\xa0\\n\\t\\xa0\\n\\t\\xa0\\n\\t\\xa0\\n\\t[PROBLEMS/ISSUES] Name the problems or difficulties that occurred during the meeting. Mark those that you consider of high importance for your role with a *. Write fragmented notes.\\nComing up with functional design and marketing plan project budjet\\n\\t\\xa0\\n\\t\\xa0\\n\\t\\xa0\\n\\t\\xa0\\n\\t\\xa0\\n\\t\\xa0\\n\\t\\xa0\\n\\t\\xa0\\n\\t\\xa0\\n\\t[ACTIONS]  Name the next steps that each member will take until the next meeting. Write fragmented notes.\\nChristine with come up with Functional design and project plan for this product\\nAgnes give feed back and opinion about product user acceptance and quality\\nED will come up with sales and marketing strategy.\\nSridhar will coordinate for whole project.\\nIS1008docs.Participant1.ABSTRACT_2.doc \\n------------ \\n[ABSTRACT]   Write one paragraph of coherent text to summarize the meeting as a whole from your role’s perspective.\\n\\xa0Project Plan and Coordination. For new Remote Control.\\n\\xa0Introduce the team from different job functions on\\nFunctional Design Plan and discussion on the subject\\nUser Interface Plan and suggestion on the product and project\\nSales and Marketing target plan and discussion to improve and introduce some of new ideas on the product to make success in the market.\\xa0\\n\\xa0Management decision and plan about product and project features\\n\\xa0\\n\\xa0\\n\\xa0\\n\\xa0\\n\\t\\xa0\\n\\t[DECISIONS]   Name all decisions that were made during the meeting. Mark those decisions that you consider of high importance for your role with a *. Write fragmented notes.\\nFunctional Design fromö Christine initial functional design was made and to be develop further as per sales and user interface suggestions\\n\\tUser Interface from : First draft of user interface is ready and acceptable to all and need to submit to the management for approval.\\n\\tSales and Marketing Plan: ED Price structure and product features were discussed with various new features like Speech Recognization and other features.\\n\\t\\xa0\\n\\t\\xa0\\n\\t\\xa0\\n\\t\\xa0\\n\\t\\xa0\\n\\t\\xa0\\n\\t\\xa0\\n\\t\\xa0\\n\\t\\xa0\\n\\t[PROBLEMS/ISSUES] Name the problems or difficulties that occurred during the meeting. Mark those that you consider of high importance for your role with a *. Write fragmented notes.\\nComing Budget to be discussed with the meeting \\n\\tAnd time frame and risk analysis to be made\\n\\t\\xa0\\n\\t\\xa0\\n\\t\\xa0\\n\\t\\xa0\\n\\t\\xa0\\n\\t\\xa0\\n\\t\\xa0\\n\\t\\xa0\\n\\t\\xa0\\n\\t[ACTIONS]  Name the next steps that each member will take until the next meeting. Write fragmented notes.\\nChristine with come up with added Functional design features and project plan for this product\\nAgnes give feed back and opinion about new functional designproduct user acceptance and quality\\nED will come up with sales and marketing ideas \\nSridhar will coordinate for whole project. to submit first draft version of the product and project plan\\nSridhar will coordinate to get some technical back or technical tie-up better product features for the functional design\\nSridhar will coordinate for budget discussion and project discussion about the new features which is going to add.\\nCoordinating  with the project team for further discussions.\\nIS1008docs.Participant1.ABSTRACT_3.doc \\n------------ \\n[ABSTRACT]   Write one paragraph of coherent text to summarize the meeting as a whole from your role’s perspective.\\n\\xa0Project Plan and Coordination. For new Remote Control.\\n\\xa0Functional Design Plan with new features and discussion on the subject\\nUser Interface Plan with new features and suggestion on the product and project\\nSales and Marketing target plan and discussion to improve and introduce some of new ideas on the product to make success in the market.\\xa0\\n\\xa0\\xa0\\n\\xa0\\n\\xa0\\n\\xa0\\n\\t\\xa0\\n\\t[DECISIONS]   Name all decisions that were made during the meeting. Mark those decisions that you consider of high importance for your role with a *. Write fragmented notes.\\n\\tFunctional Design from  Christine initial second design was made and its finalised and coming up with Prototype model \\n\\t\\n\\tUser Interface from : second  draft of user interface is ready and acceptable to all and need to coordinate with functional team to come up with Prototype model\\n\\t\\n\\tsubmit to the management for approval for finalisation of proto rpye\\n\\t\\n\\tSales and Marketing Plan: ED Price structure and product features were discussed with various new features like and product features and prototype model decided and he will comeback with cost improvement on display mode.\\n\\t\\xa0\\n\\t\\xa0\\n\\t\\xa0\\n\\t\\xa0\\n\\t\\xa0\\n\\t\\xa0\\n\\t\\xa0\\n\\t\\xa0\\n\\t\\xa0\\n\\t[PROBLEMS/ISSUES] Name the problems or difficulties that occurred during the meeting. Mark those that you consider of high importance for your role with a *. Write fragmented notes.\\nDisplay model cost and budget improvement to find out\\n\\tproduction to given in other countries to cut the cost for more sales and better features.\\n\\t\\xa0\\n\\t\\xa0\\n\\t\\xa0\\n\\t\\xa0\\n\\t\\xa0\\n\\t\\xa0\\n\\t\\xa0\\n\\t\\xa0\\n\\t\\xa0\\n\\t[ACTIONS]  Name the next steps that each member will take until the next meeting. Write fragmented notes.\\nChristine with come up with added Functional design features and project plan for this product\\nAgnes give feed back and opinion about new functional designproduct user acceptance and quality\\nED will come up with sales and marketing ideas \\nSridhar will coordinate for whole project. to submit first draft version of the product and project plan\\nSridhar will coordinate to get some technical back or technical tie-up better product features for the functional design\\nSridhar will coordinate for budget discussion and project discussion about the new features which is going to add.\\nCoordinating  with the project team for further discussions.\\nIS1008docs.Participant2.Summary.2.doc \\n------------ \\nSUMMARY – MEETING #2\\n[ABSTRACT] \\nThe project manager told us about the new project requirements. We discussed implementation points in more details (both for industrial design and user interface). I presented the very first components block-diagram.\\n[DECISIONS]\\nDecision has been made to go on with the technical staff proposals. Thanks to the marketing expert, we decided to embed a speech recognition system into the remote control (value-added feature), in order to “jump” directly to the desired channel.\\n[PROBLEMS/ISSUES]\\nHow to get and process the information coming from the TV set, so as to address the content-based navigation problem. Find the cheapest hardware possible. \\n[ACTIONS]\\nI will learn more about speech recognition. Project manager will help with introductions to Intel and IBM\\nIS1008docs.Participant2.Summary.3.doc \\n------------ \\nSUMMARY – MEETING #3\\n[ABSTRACT] \\nThe concept of making a remote control in wood was well received and we agreed that this would be a breakthrough\\n[DECISIONS]\\nWe decided to continue to explore the option of a flip screen\\n[PROBLEMS / ISSUE]\\nWe are running out of time, there isn’t enough information about certain parameters\\n[ACTIONS]\\nbuild prototypes. \\nIS1008docs.Participant2.Summary.4.doc \\n------------ \\nSUMMARY – MEETING #4\\n[ABSTRACT] \\nWe present our colorful prototype with LCD display in the flip top…and discuss the cost, as well as the marketing issues. \\n[DECISIONS]\\nWe decided to proceed with our wooden case design and to do a test marketing before a major sports event. And to use the sports event as a venue for the launch.\\n[PROBLEMS / ISSUE]\\nwe may not have sufficient user input into the final design and this could be a fatal drawback.\\n[ACTIONS]\\nthe product prototypes will be developed and tested in the market prior to launch. We will use online ordering and order fulfillment in order to cut costs and to expedite the delivery of custom solutions\\nIS1008docs.Participant2.Summary1.doc \\n------------ \\n[ABSTRACT]   Write one paragraph of coherent text to summarize the meeting as a whole from your role’s perspective.\\n\\xa0\\n\\xa0I felt that the meeting could have gone better. The project was not well defined PRIOR to the meeting. It would have been helpful to have had more guidance about what was expected prior to going into the meeting. I think the project manager should take into account the fact that participants have multiple projects with different priorities.\\n\\xa0\\n\\xa0\\n\\xa0\\n\\xa0\\n\\xa0\\n\\xa0\\n\\xa0\\n\\t\\xa0\\n\\t[DECISIONS]   Name all decisions that were made during the meeting. Mark those decisions that you consider of high importance for your role with a *. Write fragmented notes.\\n\\t\\xa0The project manager will send out the PowerPoint file. This would be helpful so that we would find out the parameters we are aiming for in this product.\\n\\t\\xa0\\n\\t\\xa0\\n\\t\\xa0\\n\\t\\xa0\\n\\t\\xa0\\n\\t\\xa0\\n\\t\\xa0\\n\\t\\xa0\\n\\t[PROBLEMS/ISSUES] Name the problems or difficulties that occurred during the meeting. Mark those that you consider of high importance for your role with a *. Write fragmented notes.\\n\\tThe project manager needs to have the design very quickly\\n\\tHe cant say exactly when or how many man hours are required\\n\\tThe marketing manager does not have sufficient data\\n\\t\\xa0\\n\\t\\xa0\\n\\t\\xa0\\n\\t\\xa0\\n\\t\\xa0\\n\\t\\xa0\\n\\t\\xa0\\n\\t\\xa0\\n\\t[ACTIONS]  Name the next steps that each member will take until the next meeting. Write fragmented notes.\\nPrepare a functional design before the next meeting –REALLY? You’ve got to be joking\\nI didn’t catch any action items assigned to others\\nIS1008docs.Participant3.summary1.doc \\n------------ \\n[ABSTRACT]   Write one paragraph of coherent text to summarize the meeting as a whole from your role’s perspective.\\n\\xa0\\n\\xa0\\nIn this meeting we discussed briefly who the participants are and what roles they will be playing. Then we had a quick introduction to the project, with some confusion about what the goal of the project is. The marketing and industrial design reps were then asked to give overviews of their plans, or at least a timeframe for when the plans would be ready. Both agreed that it was too early to have concrete plans. The user interface designer was asked if they would be coordinating, and the answer was that no, they wouldn’t be but that they would still need to interact closely with both marketing and industrial design to determine and meet user requirements needs. Budget was also briefly discussed.\\xa0\\n\\xa0\\n\\xa0\\n\\xa0\\n\\xa0\\n\\xa0\\n\\t\\xa0\\n\\t[DECISIONS]   Name all decisions that were made during the meeting. Mark those decisions that you consider of high importance for your role with a *. Write fragmented notes.\\n- an industrial design plan draft would be available soon\\n\\ta marketing draft plan would be available soon\\n\\teveryone would be cced on all correspondence*\\n\\t\\xa0\\n\\t\\xa0\\n\\t\\xa0\\n\\t\\xa0\\n\\t\\xa0\\n\\t\\xa0\\n\\t\\xa0\\n\\t\\xa0\\n\\t\\xa0\\n\\t[PROBLEMS/ISSUES] Name the problems or difficulties that occurred during the meeting. Mark those that you consider of high importance for your role with a *. Write fragmented notes.\\n\\t\\xa0- not enough information was given about the project as a whole – aims, budget, workplan*\\n\\t\\xa0\\n\\t\\xa0\\n\\t\\xa0\\n\\t\\xa0\\n\\t\\xa0\\n\\t\\xa0\\n\\t\\xa0\\n\\t\\xa0\\n\\t[ACTIONS]  Name the next steps that each member will take until the next meeting. Write fragmented notes.\\nUID – start looking at usability and user requirements\\nMarketing – preliminary draft of marketing plan, look at competition etc\\nIndustrial design - preliminary ideas for design\\nIS1008docs.Participant3.summary2.doc \\n------------ \\n[ABSTRACT]   Write one paragraph of coherent text to summarize the meeting as a whole from your role’s perspective.\\n\\xa0\\n\\xa0Project manager went through the agenda. This was followed by ideas from the industrial design perspective, which concluded with a brief discussion. Next, the marketing perspective was presented, again with comments and questions following. Finally, the interface design perspective was presented. Each presentation highlighted some desired functionalities. \\n\\xa0\\n\\xa0\\n\\xa0\\n\\xa0\\n\\xa0\\n\\xa0\\n\\xa0\\n\\t\\xa0\\n\\t[DECISIONS]   Name all decisions that were made during the meeting. Mark those decisions that you consider of high importance for your role with a *. Write fragmented notes.\\n\\t\\xa0\\n\\t\\xa0- no real decision were made\\n\\t\\xa0\\n\\t\\xa0\\n\\t\\xa0\\n\\t\\xa0\\n\\t\\xa0\\n\\t\\xa0\\n\\t\\xa0\\n\\t[PROBLEMS/ISSUES] Name the problems or difficulties that occurred during the meeting. Mark those that you consider of high importance for your role with a *. Write fragmented notes.\\n\\t\\xa0- some potential problems with using speech recognition in the remote control were discussed\\n\\t\\xa0\\n\\t\\xa0\\n\\t\\xa0\\n\\t\\xa0\\n\\t\\xa0\\n\\t\\xa0\\n\\t\\xa0\\n\\t\\xa0\\n\\t[ACTIONS]  Name the next steps that each member will take until the next meeting. Write fragmented notes.\\n- each participant will start to do preliminary design\\nIS1008docs.Participant3.summary3.doc \\n------------ \\n[ABSTRACT]   Write one paragraph of coherent text to summarize the meeting as a whole from your role’s perspective.\\n\\xa0\\nThe user interface designer  introduced  by showing different kinds of interface available in the market.then he went on  explaining about the different features a remote can have to enhance its features.\\nOne of the interesting feature to incorporate would be to include voice recognition feature.evryone agreed upon adding this feature in the remote.the industrial designer suggested what kind of materials and batteries ,chips can be used which will be cost effective.Market expert gave emphesis on features like  compactness,shape and attractivess of the remote\\n\\xa0\\n\\xa0\\n\\xa0\\n\\xa0\\n\\xa0\\n\\xa0\\n\\t\\xa0\\n\\t[DECISIONS]   Name all decisions that were made during the meeting. Mark those decisions that you consider of high importance for your role with a *. Write fragmented notes.\\n\\tuse speech recognition\\n\\tto make a attractive case\\n\\tcost effective\\n\\tcompact\\n\\tsoft remote made up of clay \\n\\t\\n\\t\\xa0\\n\\t\\xa0\\n\\t\\xa0\\n\\t\\xa0\\n\\t\\xa0\\n\\t\\xa0\\n\\t\\xa0\\n\\t\\xa0\\n\\t[PROBLEMS/ISSUES] Name the problems or difficulties that occurred during the meeting. Mark those that you consider of high importance for your role with a *. Write fragmented notes.\\n\\t\\n\\t\\xa0\\n\\t\\xa0how to make a cost effective and attractive remote\\n\\t\\xa0\\n\\t\\xa0\\n\\t\\xa0\\n\\t\\xa0\\n\\t\\xa0\\n\\t\\xa0\\n\\t[ACTIONS]  Name the next steps that each member will take until the next meeting. Write fragmented notes.\\nuser interface and industrial designers will make a prototype\\nmarketing expert will come up with a marketing strategy.\\nIS1008docs.Participant3.summary4.doc \\n------------ \\n[ABSTRACT]   Write one paragraph of coherent text to summarize the meeting as a whole from your role’s perspective.\\n\\xa0\\n\\xa0The project manager went over the budget for the prototype. It was thought to be a little underestimated. Then, the prototype was unveiled and all the features were explained. The marketing manager then pointed out some other financial issues and considerations, mainly that the actual cost per unit would be higher than projected by the project manager. We then discussed the possibility of web-marketing and seasonal testing and releases, to correspond to potential peaks in the market. \\n\\xa0\\n\\xa0\\n\\xa0The proposed model was unveiled before the team members.The industrial designer talked about the feel good feature of the model.The user interface designer discussed about the various features such as the buttons , there function.shape,colour of the model.\\nThen the market expert evaluated the model and came to the conclusion that the model has good chances of \\n\\xa0\\n\\xa0\\n\\xa0\\n\\xa0\\n\\t\\xa0\\n\\t[DECISIONS]   Name all decisions that were made during the meeting. Mark those decisions that you consider of high importance for your role with a *. Write fragmented notes.\\n\\tTry to include more features to make it more attractive.\\n\\tRight time to laounch the product into the market\\n\\t\\n\\t\\xa0\\n\\t\\xa0\\n\\t\\xa0\\n\\t\\xa0\\n\\t\\xa0\\n\\t\\xa0\\n\\t\\xa0\\n\\t\\xa0\\n\\t[PROBLEMS/ISSUES] Name the problems or difficulties that occurred during the meeting. Mark those that you consider of high importance for your role with a *. Write fragmented notes.\\n\\xa0\\n\\t\\xa0\\n\\tBy\\xa0including the voice recognition system which may hike the selling and production rate.A descision has to be taken to include the feature and to keep the expenditure within budget.\\n\\t\\xa0\\n\\t\\xa0\\n\\t\\xa0\\n\\t\\xa0\\n\\t\\xa0\\n\\t\\xa0\\n\\t[ACTIONS]  Name the next steps that each member will take until the next meeting. Write fragmented notes.\\nTo launch the product in the market with enhanced feature at the right time.\\nIS1008docs.Participant3.summary4part3.doc \\n------------ \\n[ABSTRACT]   Write one paragraph of coherent text to summarize the meeting as a whole from your role’s perspective.\\n\\xa0\\n\\xa0The project manager went over the budget for the prototype. It was thought to be a little underestimated. Then, the prototype was unveiled and all the features were explained. The marketing manager then pointed out some other financial issues and considerations, mainly that the actual cost per unit would be higher than projected by the project manager. We then discussed the possibility of web-marketing and seasonal testing and releases, to correspond to potential peaks in the market. \\n\\xa0\\n\\xa0\\n\\xa0The proposed model was unveiled before the team members.The industrial designer talked about the feel good feature of the model.The user interface designer discussed about the various features such as the buttons , there function.shape,colour of the model.\\nThen the market expert evaluated the model and came to the conclusion that the model has good chances of \\n\\xa0\\n\\xa0\\n\\xa0\\n\\xa0\\n\\t\\xa0\\n\\t[DECISIONS]   Name all decisions that were made during the meeting. Mark those decisions that you consider of high importance for your role with a *. Write fragmented notes.\\n\\tTry to include more features to make it more attractive.\\n\\tRight time to laounch the product into the market\\n\\t\\n\\t\\xa0\\n\\t\\xa0\\n\\t\\xa0\\n\\t\\xa0\\n\\t\\xa0\\n\\t\\xa0\\n\\t\\xa0\\n\\t\\xa0\\n\\t[PROBLEMS/ISSUES] Name the problems or difficulties that occurred during the meeting. Mark those that you consider of high importance for your role with a *. Write fragmented notes.\\n\\xa0\\n\\t\\xa0\\n\\tBy\\xa0including the voice recognition system which may hike the selling and production rate.A descision has to be taken to include the feature and to keep the expenditure within budget.\\n\\t\\xa0\\n\\t\\xa0\\n\\t\\xa0\\n\\t\\xa0\\n\\t\\xa0\\n\\t\\xa0\\n\\t[ACTIONS]  Name the next steps that each member will take until the next meeting. Write fragmented notes.\\nTo launch the product in the market with enhanced feature at the right time.\\nIS1008docs.Participant4.ABSTRACT1.doc \\n------------ \\n[ABSTRACT]   Write one paragraph of coherent text to summarize the meeting as a whole from your role’s perspective.\\n\\xa0\\n\\xa0The meeting was a bit abrupt, in the sense that we didn\\'t have enough information to be able to answer sufficiently what the project manager requested. But as the meeting went on, it became easier to come up with an idea and strategy of what we will need to do. It will certainly be more coherent in future meetings.\\n\\xa0\\n\\xa0\\n\\xa0\\n\\xa0\\n\\xa0\\n\\xa0\\n\\xa0\\n\\t\\xa0\\n\\t[DECISIONS]   Name all decisions that were made during the meeting. Mark those decisions that you consider of high importance for your role with a *. Write fragmented notes.\\n\\t1) To come up with a new design for remote\\n\\t2) To make a new remote user frendly\\n\\t3) To make remote more interesting\\n\\t\\xa0\\n\\t\\xa0\\n\\t\\xa0\\n\\t\\xa0\\n\\t\\xa0\\n\\t\\xa0\\n\\t\\xa0\\n\\t\\xa0\\n\\t\\xa0\\n\\t[PROBLEMS/ISSUES] Name the problems or difficulties that occurred during the meeting. Mark those that you consider of high importance for your role with a *. Write fragmented notes.\\n\\t1) Lack of information on product\\n\\t2) Lack of coordinated discussion within group\\n\\t\\n\\t\\n\\xa0\\n\\t\\xa0\\n\\t\\xa0\\n\\t\\xa0\\n\\t\\xa0\\n\\t\\xa0\\n\\t\\xa0\\n\\t\\xa0\\n\\t\\xa0\\n\\t\\xa0\\n\\t[ACTIONS]  Name the next steps that each member will take until the next meeting. Write fragmented notes.\\n\\t\\n\\tProject manager: make clear budget/finance strategy-deadlines for production-marketing\\n\\tDeveloper: to provide feasible deadlines for product\\n\\tMarketing: to pinpoint which market to introduce product/which retailers to contact/when and how to\\n\\t                 Introduce new product\\n\\tDesigner: to have a prototype of product to be marketed\\n\\t\\nIS1008docs.Participant4.ABSTRACT2.doc \\n------------ \\n[ABSTRACT]   Write one paragraph of coherent text to summarize the meeting as a whole from your role’s perspective.\\n\\xa0\\nThe meeting went considerably better. It was more coherent with each participant having a more defined role.\\n\\xa0\\n\\xa0\\n\\xa0\\n\\xa0\\n\\xa0\\n\\xa0\\n\\t\\xa0\\n\\t[DECISIONS]   Name all decisions that were made during the meeting. Mark those decisions that you consider of high importance for your role with a *. Write fragmented notes.\\n\\t1) To come up with a new design for remote\\n\\t2) To make a new remote user friendly\\n\\t3) To make the remote more interesting\\n4) To make speech recognition a part of the remote\\n\\t\\xa0\\n\\t\\xa0\\n\\t\\xa0\\n\\t\\xa0\\n\\t\\xa0\\n\\t\\xa0\\n\\t\\xa0\\n\\t\\xa0\\n\\t\\xa0\\n\\t[PROBLEMS/ISSUES] Name the problems or difficulties that occurred during the meeting. Mark those that you consider of high importance for your role with a *. Write fragmented notes.\\n\\tThere were less problems involved now that the group has clearer goals and ideas.\\n\\tThe only “difficulty” was with coming up with a consensus on what needs to be the final product.\\n\\t\\n\\t\\n\\xa0\\n\\t\\xa0\\n\\t\\xa0\\n\\t\\xa0\\n\\t\\xa0\\n\\t\\xa0\\n\\t\\xa0\\n\\t\\xa0\\n\\t\\xa0\\n\\t\\xa0\\n\\t[ACTIONS]  Name the next steps that each member will take until the next meeting. Write fragmented notes.\\n\\t\\n\\tProject manager: Te request more information and organize next meeting to resolve “generalities” of product\\n\\tDeveloper: to develop product possibilities and material\\n\\tMarketing: to present a clear report on what consumer desires/wishes in an innovative product\\n\\tDesigner: to come up with an idea of the product before making a prototype\\n\\t\\nIS1008docs.Participant4.ABSTRACT3.doc \\n------------ \\n[ABSTRACT]   Write one paragraph of coherent text to summarize the meeting as a whole from your role’s perspective.\\n\\xa0\\nThe meeting advanced what was discussed in the previous meeting. We now have a product in which we need to finalize a prototype for eventual marketing.\\n\\xa0\\n\\xa0\\n\\xa0\\n\\xa0\\n\\xa0\\n\\t\\xa0\\n\\t[DECISIONS]   Name all decisions that were made during the meeting. Mark those decisions that you consider of high importance for your role with a *. Write fragmented notes.\\n\\t1) Choice of material\\n\\t2) Agreement on style and user ease\\n\\t3) Incorporation of speech recognition\\n\\t\\xa0\\n\\t\\xa0\\n\\t\\xa0\\n\\t\\xa0\\n\\t\\xa0\\n\\t\\xa0\\n\\t\\xa0\\n\\t\\xa0\\n\\t\\xa0\\n\\t[PROBLEMS/ISSUES] Name the problems or difficulties that occurred during the meeting. Mark those that you consider of high importance for your role with a *. Write fragmented notes.\\n\\tNo major problems. Project needs to be put into final phase.\\n\\t\\n\\t\\n\\xa0\\n\\t\\xa0\\n\\t\\xa0\\n\\t\\xa0\\n\\t\\xa0\\n\\t\\xa0\\n\\t\\xa0\\n\\t\\xa0\\n\\t\\xa0\\n\\t\\xa0\\n\\t[ACTIONS]  Name the next steps that each member will take until the next meeting. Write fragmented notes.\\n\\t\\nProduct manager: Compile final report for presentation to management\\nIndustrial: Feasibility and production of prototype\\nMarketing: Strategy for sales and publicity for eventual sales\\nUser: To present prototype and model for final production\\nIS1008docs.Participant4.Copie..2-de-ABSTRACT2.doc \\n------------ \\n[ABSTRACT]   Write one paragraph of coherent text to summarize the meeting as a whole from your role’s perspective.\\n\\xa0\\nThe meeting went considerably better. It was more coherent with each participant having a more defined role.\\n\\xa0\\n\\xa0\\n\\xa0\\n\\xa0\\n\\xa0\\n\\xa0\\n\\t\\xa0\\n\\t[DECISIONS]   Name all decisions that were made during the meeting. Mark those decisions that you consider of high importance for your role with a *. Write fragmented notes.\\n\\t1) To come up with a new design for remote\\n\\t2) To make a new remote user friendly\\n\\t3) To make the remote more interesting\\n4) To make speech recognition a part of the remote\\n\\t\\xa0\\n\\t\\xa0\\n\\t\\xa0\\n\\t\\xa0\\n\\t\\xa0\\n\\t\\xa0\\n\\t\\xa0\\n\\t\\xa0\\n\\t\\xa0\\n\\t[PROBLEMS/ISSUES] Name the problems or difficulties that occurred during the meeting. Mark those that you consider of high importance for your role with a *. Write fragmented notes.\\n\\tThere were less problems involved now that the group has clearer goals and ideas.\\n\\tThe only “difficulty” was with coming up with a consensus on what needs to be the final product.\\n\\t\\n\\t\\n\\xa0\\n\\t\\xa0\\n\\t\\xa0\\n\\t\\xa0\\n\\t\\xa0\\n\\t\\xa0\\n\\t\\xa0\\n\\t\\xa0\\n\\t\\xa0\\n\\t\\xa0\\n\\t[ACTIONS]  Name the next steps that each member will take until the next meeting. Write fragmented notes.\\n\\t\\n\\tProject manager: Te request more information and organize next meeting to resolve “generalities” of product\\n\\tDeveloper: to develop product possibilities and material\\n\\tMarketing: to present a clear report on what consumer desires/wishes in an innovative product\\n\\tDesigner: to come up with an idea of the product before making a prototype\\n\\t\\nIS1008docs.Participant4.Copie.de.ABSTRACT2.doc \\n------------ \\n[ABSTRACT]   Write one paragraph of coherent text to summarize the meeting as a whole from your role’s perspective.\\n\\xa0\\nThe meeting went considerably better. It was more coherent with each participant having a more defined role.\\n\\xa0\\n\\xa0\\n\\xa0\\n\\xa0\\n\\xa0\\n\\xa0\\n\\t\\xa0\\n\\t[DECISIONS]   Name all decisions that were made during the meeting. Mark those decisions that you consider of high importance for your role with a *. Write fragmented notes.\\n\\t1) To come up with a new design for remote\\n\\t2) To make a new remote user friendly\\n\\t3) To make the remote more interesting\\n4) To make speech recognition a part of the remote\\n\\t\\xa0\\n\\t\\xa0\\n\\t\\xa0\\n\\t\\xa0\\n\\t\\xa0\\n\\t\\xa0\\n\\t\\xa0\\n\\t\\xa0\\n\\t\\xa0\\n\\t[PROBLEMS/ISSUES] Name the problems or difficulties that occurred during the meeting. Mark those that you consider of high importance for your role with a *. Write fragmented notes.\\n\\tThere were less problems involved now that the group has clearer goals and ideas.\\n\\tThe only “difficulty” was with coming up with a consensus on what needs to be the final product.\\n\\t\\n\\t\\n\\xa0\\n\\t\\xa0\\n\\t\\xa0\\n\\t\\xa0\\n\\t\\xa0\\n\\t\\xa0\\n\\t\\xa0\\n\\t\\xa0\\n\\t\\xa0\\n\\t\\xa0\\n\\t[ACTIONS]  Name the next steps that each member will take until the next meeting. Write fragmented notes.\\n\\t\\n\\tProject manager: Te request more information and organize next meeting to resolve “generalities” of product\\n\\tDeveloper: to develop product possibilities and material\\n\\tMarketing: to present a clear report on what consumer desires/wishes in an innovative product\\n\\tDesigner: to come up with an idea of the product before making a prototype'"
      ]
     },
     "execution_count": 5,
     "metadata": {},
     "output_type": "execute_result"
    }
   ],
   "source": [
    "# Truncate shared_docs to ensure num_tokens < 90000\n",
    "max_tokens = 90000\n",
    "while utils.num_tokens_from_string(shared_docs) > max_tokens:\n",
    "    shared_docs = shared_docs[:-1000]  # Truncate the last 1000 characters iteratively\n",
    "shared_docs"
   ]
  },
  {
   "cell_type": "code",
   "execution_count": 6,
   "metadata": {},
   "outputs": [],
   "source": [
    "def truncate_shared_docs(shared_docs: str, max_tokens: int = 90000) -> str:\n",
    "    \"\"\"\n",
    "    Truncate the shared documents to ensure the number of tokens is less than max_tokens.\n",
    "    Args:\n",
    "        shared_docs (str): The shared documents as a string.\n",
    "        max_tokens (int): The maximum number of tokens allowed.\n",
    "    Returns:\n",
    "        str: The truncated shared documents.\n",
    "    \"\"\"\n",
    "    # Ensure the shared documents are within the token limit\n",
    "    while utils.num_tokens_from_string(shared_docs) > max_tokens:\n",
    "        shared_docs = shared_docs[:-1000]  # Truncate the last 1000 characters iteratively\n",
    "    return shared_docs"
   ]
  },
  {
   "cell_type": "markdown",
   "metadata": {},
   "source": [
    "# Generate 1 truncated single input "
   ]
  },
  {
   "cell_type": "code",
   "execution_count": 7,
   "metadata": {},
   "outputs": [],
   "source": [
    "# load 1 truncated shared_docs\n",
    "shared_docs =load_1_shared_docs()\n",
    "truncated_shared_docs = utils.truncate_shared_docs(shared_docs, max_tokens=90000)"
   ]
  },
  {
   "cell_type": "code",
   "execution_count": 8,
   "metadata": {},
   "outputs": [],
   "source": [
    "from src.utils.generate import Generation \n",
    "from src.utils import utils\n",
    "file_config = utils.load_config(\"src/config/file_config.yml\")\n",
    "model_config = utils.load_config(file_config[\"llm_env\"][\"model_config_file\"])\n",
    "prompt_config = utils.load_config(file_config[\"llm_env\"][\"prompting_file\"])\n",
    "generate = Generation(prompt_config)"
   ]
  },
  {
   "cell_type": "code",
   "execution_count": 9,
   "metadata": {},
   "outputs": [],
   "source": [
    "from src.utils.llm_models import get_llm_model\n",
    "import os\n",
    "from dotenv import load_dotenv\n",
    "load_dotenv()\n",
    "config = {\n",
    "    'openai_api_key': os.getenv(\"OPENAI_API_KEY\"),\n",
    "    'llm_choice': 'OpenAI', # Ollama\n",
    "    'model_choice': 'gpt-4o-mini', # gpt-4o\n",
    "    'parameters': {\n",
    "        'temperature': 0.2,\n",
    "        'top_p': 0.95,\n",
    "        'max_retries': 2,\n",
    "    },\n",
    "}\n",
    "llm = get_llm_model(\n",
    "    chatmodel=config['llm_choice'], \n",
    "    model_name=config['model_choice'], \n",
    "    param=config['parameters'], \n",
    ")"
   ]
  },
  {
   "cell_type": "code",
   "execution_count": 10,
   "metadata": {},
   "outputs": [
    {
     "data": {
      "text/plain": [
       "{'text': \"**Meeting Agenda: Remote Control Design Project Update**  \\n\\n1. **Introductions and Overview (5 minutes)**  \\n   + **Team Introductions** (2 minutes)  \\n     + Each member briefly introduces themselves and their role in the project.  \\n   + **Project Overview** (3 minutes)  \\n     + Summary of project goals: trendy, user-friendly, and original design.  \\n     + Financial guidelines: Selling price Euro 25, Production cost: Euro 12.5.  \\n\\n2. **Design Specifications Discussion (10 minutes)**  \\n   + **Components and Features** (5 minutes)  \\n     + Review of key components: LCD, voice recognition, minimalist design.  \\n     + Discussion on functionality: volume, channel, on/off buttons.  \\n   + **Design Aesthetics** (5 minutes)  \\n     + Consensus on color scheme: 'fruit and vegetable' colors, incorporation of company colors.  \\n     + Addressing the removal of features to meet budget constraints.  \\n\\n3. **Market Research and User Feedback (5 minutes)**  \\n   + **Marketing Insights** (3 minutes)  \\n     + Overview of user preferences and market trends presented by the marketing manager.  \\n   + **Feedback on Prototypes** (2 minutes)  \\n     + Discussion on initial feedback received regarding the prototype design.  \\n\\n4. **Next Steps and Action Items (5 minutes)**  \\n   + **Assigning Responsibilities** (5 minutes)  \\n     + Outline next steps for each team member:  \\n       - User Interface Designer: Finalize button design and interface layout.  \\n       - Technical Designer: Estimate costs for incorporating new technology.  \\n       - Marketing Manager: Conduct further market research.  \\n       - Project Manager: Prepare for the next meeting and assess progress.  \\n\\n**Total Time:** 25 minutes  \",\n",
       " '__run': {'run_id': UUID('70da7739-8608-4b5c-af05-3fb3044408fa')}}"
      ]
     },
     "execution_count": 10,
     "metadata": {},
     "output_type": "execute_result"
    }
   ],
   "source": [
    "from langchain_core.tracers.context import tracing_v2_enabled\n",
    "\n",
    "with tracing_v2_enabled(project_name=\"generate_truncated_sigle_input\"):\n",
    "    template = generate.generate_truncated_sigle_input_agenda(llm=llm, shared_docs=truncated_shared_docs)\n",
    "template "
   ]
  },
  {
   "cell_type": "code",
   "execution_count": 11,
   "metadata": {},
   "outputs": [
    {
     "name": "stdout",
     "output_type": "stream",
     "text": [
      "**Meeting Agenda: Remote Control Design Project Update**  \n",
      "\n",
      "1. **Introductions and Overview (5 minutes)**  \n",
      "   + **Team Introductions** (2 minutes)  \n",
      "     + Each member briefly introduces themselves and their role in the project.  \n",
      "   + **Project Overview** (3 minutes)  \n",
      "     + Summary of project goals: trendy, user-friendly, and original design.  \n",
      "     + Financial guidelines: Selling price Euro 25, Production cost: Euro 12.5.  \n",
      "\n",
      "2. **Design Specifications Discussion (10 minutes)**  \n",
      "   + **Components and Features** (5 minutes)  \n",
      "     + Review of key components: LCD, voice recognition, minimalist design.  \n",
      "     + Discussion on functionality: volume, channel, on/off buttons.  \n",
      "   + **Design Aesthetics** (5 minutes)  \n",
      "     + Consensus on color scheme: 'fruit and vegetable' colors, incorporation of company colors.  \n",
      "     + Addressing the removal of features to meet budget constraints.  \n",
      "\n",
      "3. **Market Research and User Feedback (5 minutes)**  \n",
      "   + **Marketing Insights** (3 minutes)  \n",
      "     + Overview of user preferences and market trends presented by the marketing manager.  \n",
      "   + **Feedback on Prototypes** (2 minutes)  \n",
      "     + Discussion on initial feedback received regarding the prototype design.  \n",
      "\n",
      "4. **Next Steps and Action Items (5 minutes)**  \n",
      "   + **Assigning Responsibilities** (5 minutes)  \n",
      "     + Outline next steps for each team member:  \n",
      "       - User Interface Designer: Finalize button design and interface layout.  \n",
      "       - Technical Designer: Estimate costs for incorporating new technology.  \n",
      "       - Marketing Manager: Conduct further market research.  \n",
      "       - Project Manager: Prepare for the next meeting and assess progress.  \n",
      "\n",
      "**Total Time:** 25 minutes  \n"
     ]
    }
   ],
   "source": [
    "print(template['text'])"
   ]
  },
  {
   "cell_type": "markdown",
   "metadata": {},
   "source": [
    "# Create the truncated single input agenda for 67 Meetings"
   ]
  },
  {
   "cell_type": "code",
   "execution_count": 12,
   "metadata": {},
   "outputs": [],
   "source": [
    "import os \n",
    "from src.utils import utils\n",
    "import pandas as pd "
   ]
  },
  {
   "cell_type": "code",
   "execution_count": 13,
   "metadata": {},
   "outputs": [],
   "source": [
    "def load_data_path(path: str = \"EDA/token_data.csv\") -> pd.DataFrame:\n",
    "    \"\"\"\n",
    "    Load the data from the path\n",
    "    \"\"\"\n",
    "    df = pd.read_csv(path)\n",
    "    df_shared_docs = df[df[\"num_tokens_shared_doc\"] > 0]\n",
    "    return df_shared_docs\n",
    "def extract_data_from_file(file: str, root: str = '/datadrive/CuongHV/project/DATA/AMI_MS_Cleaned') -> pd.DataFrame:\n",
    "    \"\"\"\n",
    "    Extract the data from the file\n",
    "    \"\"\"\n",
    "    path = f'{root}/{file}'\n",
    "    with open(path, encoding='utf-8') as f:\n",
    "        jsondict = json.load(f)\n",
    "    return jsondict"
   ]
  },
  {
   "cell_type": "code",
   "execution_count": 14,
   "metadata": {},
   "outputs": [],
   "source": [
    "from src.utils.generate import Generation \n",
    "from src.utils import utils\n",
    "from src.utils.llm_models import get_llm_model\n",
    "import os\n",
    "from dotenv import load_dotenv\n",
    "load_dotenv()\n",
    "\n",
    "file_config = utils.load_config(\"src/config/file_config.yml\")\n",
    "model_config = utils.load_config(file_config[\"llm_env\"][\"model_config_file\"])\n",
    "prompt_config = utils.load_config(file_config[\"llm_env\"][\"prompting_file\"])\n",
    "generate = Generation(prompt_config)\n",
    "\n",
    "config = {\n",
    "    'openai_api_key': os.getenv(\"OPENAI_API_KEY\"),\n",
    "    'llm_choice': 'OpenAI', # Ollama\n",
    "    'model_choice': 'gpt-4o-mini', # gpt-4o\n",
    "    'parameters': {\n",
    "        'temperature': 0.2,\n",
    "        'top_p': 0.95,\n",
    "        'max_retries': 2,\n",
    "    },\n",
    "}\n",
    "llm = get_llm_model(\n",
    "    chatmodel=config['llm_choice'], \n",
    "    model_name=config['model_choice'], \n",
    "    param=config['parameters'], \n",
    ")"
   ]
  },
  {
   "cell_type": "code",
   "execution_count": 15,
   "metadata": {},
   "outputs": [
    {
     "name": "stdout",
     "output_type": "stream",
     "text": [
      "ES2004d.json\n",
      "Finish ES2004d.json\n",
      "ES2008b.json\n",
      "Finish ES2008b.json\n",
      "IS1004d.json\n",
      "Finish IS1004d.json\n",
      "IS1008a.json\n",
      "Finish IS1008a.json\n",
      "IS1004a.json\n",
      "Finish IS1004a.json\n",
      "IS1005b.json\n",
      "Finish IS1005b.json\n",
      "ES2008c.json\n",
      "Finish ES2008c.json\n",
      "ES2008d.json\n",
      "Finish ES2008d.json\n",
      "IS1006d.json\n",
      "Finish IS1006d.json\n",
      "IS1006c.json\n",
      "Finish IS1006c.json\n",
      "IS1005a.json\n",
      "Finish IS1005a.json\n",
      "ES2006d.json\n",
      "Finish ES2006d.json\n",
      "ES2004b.json\n",
      "Finish ES2004b.json\n",
      "ES2009d.json\n",
      "Finish ES2009d.json\n",
      "IS1005c.json\n",
      "Finish IS1005c.json\n",
      "ES2005a.json\n",
      "Finish ES2005a.json\n",
      "ES2006b.json\n",
      "Finish ES2006b.json\n",
      "IS1001c.json\n",
      "Finish IS1001c.json\n",
      "ES2003a.json\n",
      "Finish ES2003a.json\n",
      "IS1001d.json\n",
      "Finish IS1001d.json\n",
      "IS1001a.json\n",
      "Finish IS1001a.json\n",
      "ES2002b.json\n",
      "Finish ES2002b.json\n",
      "ES2004c.json\n",
      "Finish ES2004c.json\n",
      "ES2002a.json\n",
      "Finish ES2002a.json\n",
      "ES2003c.json\n",
      "Finish ES2003c.json\n",
      "ES2008a.json\n",
      "Finish ES2008a.json\n",
      "ES2006c.json\n",
      "Finish ES2006c.json\n",
      "ES2007d.json\n",
      "Finish ES2007d.json\n",
      "IS1009d.json\n",
      "Finish IS1009d.json\n",
      "IS1009b.json\n",
      "Finish IS1009b.json\n",
      "ES2005d.json\n",
      "Finish ES2005d.json\n",
      "IS1006b.json\n",
      "Finish IS1006b.json\n",
      "ES2009b.json\n",
      "Finish ES2009b.json\n",
      "ES2010d.json\n",
      "Finish ES2010d.json\n",
      "ES2002d.json\n",
      "Finish ES2002d.json\n",
      "IS1001b.json\n",
      "Finish IS1001b.json\n",
      "IS1003b.json\n",
      "Finish IS1003b.json\n",
      "ES2007b.json\n",
      "Finish ES2007b.json\n",
      "IS1004c.json\n",
      "Finish IS1004c.json\n",
      "IS1003d.json\n",
      "Finish IS1003d.json\n",
      "ES2002c.json\n",
      "Finish ES2002c.json\n",
      "IS1008b.json\n",
      "Finish IS1008b.json\n",
      "ES2005b.json\n",
      "Finish ES2005b.json\n",
      "ES2009a.json\n",
      "Finish ES2009a.json\n",
      "IS1003a.json\n",
      "Finish IS1003a.json\n",
      "ES2010b.json\n",
      "Finish ES2010b.json\n",
      "IS1009a.json\n",
      "Finish IS1009a.json\n",
      "ES2007c.json\n",
      "Finish ES2007c.json\n",
      "IS1007b.json\n",
      "Finish IS1007b.json\n",
      "IS1006a.json\n",
      "Finish IS1006a.json\n",
      "ES2007a.json\n",
      "Finish ES2007a.json\n",
      "IS1008d.json\n",
      "Finish IS1008d.json\n",
      "ES2010c.json\n",
      "Finish ES2010c.json\n",
      "IS1007c.json\n",
      "Finish IS1007c.json\n",
      "ES2005c.json\n",
      "Finish ES2005c.json\n",
      "IS1008c.json\n",
      "Finish IS1008c.json\n",
      "IS1007d.json\n",
      "Finish IS1007d.json\n",
      "IS1007a.json\n",
      "Finish IS1007a.json\n",
      "ES2006a.json\n",
      "Finish ES2006a.json\n",
      "ES2009c.json\n",
      "Finish ES2009c.json\n",
      "ES2004a.json\n",
      "Finish ES2004a.json\n",
      "ES2003b.json\n",
      "Finish ES2003b.json\n",
      "ES2010a.json\n",
      "Finish ES2010a.json\n",
      "IS1009c.json\n",
      "Finish IS1009c.json\n",
      "IS1003c.json\n",
      "Finish IS1003c.json\n",
      "ES2003d.json\n",
      "Finish ES2003d.json\n",
      "IS1004b.json\n",
      "Finish IS1004b.json\n"
     ]
    }
   ],
   "source": [
    "df_shared_docs = load_data_path()\n",
    "for file in df_shared_docs['file'].values:\n",
    "    print(file)\n",
    "    sample_jsondict = extract_data_from_file(file)\n",
    "    shared_docs = sample_jsondict['shared-doc']\n",
    "    # Truncate shared_docs to ensure num_tokens < 90000\n",
    "    truncate_shared_docs = utils.truncate_shared_docs(shared_docs, max_tokens=90000)\n",
    "    # Generate the template\n",
    "    with tracing_v2_enabled(project_name=\"generate_truncated_sigle_input\"):\n",
    "        agenda = generate.generate_truncated_sigle_input_agenda(llm=llm, shared_docs=truncate_shared_docs)\n",
    "    data = {\n",
    "        'truncate_shared_docs': truncate_shared_docs,\n",
    "        'agenda': agenda['text'], \n",
    "    }\n",
    "    with open(f'/datadrive/CuongHV/project/DATA/mm_agenda_generation_research_output/truncated_single_input_agenda/{file}', 'a', encoding='utf-8') as f:\n",
    "        json.dump(data, f, ensure_ascii=False, indent=4)\n",
    "    print(f\"Finish {file}\")\n"
   ]
  },
  {
   "cell_type": "markdown",
   "metadata": {},
   "source": [
    "# Compare with Recap Agenda"
   ]
  },
  {
   "cell_type": "code",
   "execution_count": 31,
   "metadata": {},
   "outputs": [],
   "source": [
    "recap_root = '/datadrive/CuongHV/project/DATA/mm_agenda_generation_research_output/recap_agenda_title' \n",
    "truncatied_s_root = '/datadrive/CuongHV/project/DATA/mm_agenda_generation_research_output/truncated_single_input_agenda'\n",
    "file = 'ES2002a.json'\n",
    "def load_agenda(file, root):\n",
    "    \"\"\"\n",
    "    Load the agenda from the root\n",
    "    \"\"\"\n",
    "    path = f'{root}/{file}'\n",
    "    with open(path, 'r', encoding='utf-8') as f:\n",
    "        data = json.load(f)\n",
    "    return data['agenda']"
   ]
  },
  {
   "cell_type": "code",
   "execution_count": 32,
   "metadata": {},
   "outputs": [
    {
     "name": "stdout",
     "output_type": "stream",
     "text": [
      "**Meeting Agenda: Remote Control Design Project Kick-off**  \n",
      "1. **Introductions and Icebreaker (5 minutes)**  \n",
      "  + **Icebreaker Activity** (2 minutes)  \n",
      "    + Participants draw their favorite animal and describe its key characteristics.  \n",
      "  + **Overview of Participants** (3 minutes)  \n",
      "    + Brief introductions of team members and their roles in the project.  \n",
      "\n",
      "2. **Project Overview (10 minutes)**  \n",
      "  + **Project Goals Presentation** (5 minutes)  \n",
      "    + Outline of project objectives: design a trendy, original, and user-friendly remote control.  \n",
      "    + Financial guidelines: Selling price set at €25, with a production cost cap of €12.50.  \n",
      "  + **Discussion on Market Considerations** (5 minutes)  \n",
      "    + Explore international market implications and regional pricing strategies.  \n",
      "\n",
      "3. **Feature Brainstorming (10 minutes)**  \n",
      "  + **Core Functionalities Discussion** (5 minutes)  \n",
      "    + Identify essential features: multi-device compatibility, user-friendly interface, and additional functionalities.  \n",
      "  + **Design Considerations** (5 minutes)  \n",
      "    + Discuss design aesthetics and technological advancements (e.g., touch screens, streamlined designs).  \n",
      "\n",
      "4. **Next Steps and Responsibilities (5 minutes)**  \n",
      "  + **Action Items Assignment** (5 minutes)  \n",
      "    + Assign tasks to team members for the next phase of the project, including design and market research.  \n",
      "\n",
      "**Total Time:** 30 minutes\n"
     ]
    }
   ],
   "source": [
    "recap_agenda  = load_agenda(file, recap_root)\n",
    "print(recap_agenda)"
   ]
  },
  {
   "cell_type": "code",
   "execution_count": 24,
   "metadata": {},
   "outputs": [
    {
     "name": "stdout",
     "output_type": "stream",
     "text": [
      "**Meeting Agenda: Mando Remote Control Project Update**  \n",
      "\n",
      "1. **Opening and Introductions (5 minutes)**  \n",
      "   + **Welcome and Overview** (2 minutes)  \n",
      "     + Brief introduction of the project and its objectives.  \n",
      "     + Overview of the meeting agenda.  \n",
      "   + **Participant Introductions** (3 minutes)  \n",
      "     + Each participant shares their role in the project.  \n",
      "\n",
      "2. **Project Status Updates (10 minutes)**  \n",
      "   + **Functional Design Review** (5 minutes)  \n",
      "     + Summary of decisions made regarding the remote control's functionality.  \n",
      "     + Discussion on the exclusion of speech recognition and LCD features.  \n",
      "   + **Conceptual Design Insights** (5 minutes)  \n",
      "     + Presentation of the banana design concept and its implications.  \n",
      "     + Review of user interface options: scroll wheels and buttons.  \n",
      "\n",
      "3. **Cost Evaluation and Budget Discussion (10 minutes)**  \n",
      "   + **Production Cost Analysis** (5 minutes)  \n",
      "     + Presentation of the current cost analysis and budget constraints.  \n",
      "     + Discussion on the feasibility of production under the current budget.  \n",
      "   + **Future Cost Considerations** (5 minutes)  \n",
      "     + Explore potential cost-saving measures and additional features.  \n",
      "     + Discussion on market pricing strategy for the remote control.  \n",
      "\n",
      "4. **Next Steps and Individual Actions (5 minutes)**  \n",
      "   + **Action Item Assignments** (5 minutes)  \n",
      "     + Review of individual responsibilities and deadlines for the next phase of the project.  \n",
      "     + Confirm next meeting date and objectives.  \n",
      "\n",
      "**Total Time:** 30 minutes  \n"
     ]
    }
   ],
   "source": [
    "truncatied_s_agenda = load_agenda(file, truncatied_s_root)\n",
    "print(truncatied_s_agenda)"
   ]
  }
 ],
 "metadata": {
  "kernelspec": {
   "display_name": "mm_agenda_generation_research",
   "language": "python",
   "name": "python3"
  },
  "language_info": {
   "codemirror_mode": {
    "name": "ipython",
    "version": 3
   },
   "file_extension": ".py",
   "mimetype": "text/x-python",
   "name": "python",
   "nbconvert_exporter": "python",
   "pygments_lexer": "ipython3",
   "version": "3.10.16"
  }
 },
 "nbformat": 4,
 "nbformat_minor": 2
}
